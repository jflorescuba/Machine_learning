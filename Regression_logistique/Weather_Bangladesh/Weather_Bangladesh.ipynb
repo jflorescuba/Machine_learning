{
 "cells": [
  {
   "cell_type": "markdown",
   "metadata": {},
   "source": [
    "### 1. Problem "
   ]
  },
  {
   "cell_type": "markdown",
   "metadata": {},
   "source": [
    "https://www.kaggle.com/datasets/apurboshahidshawon/weatherdatabangladesh\n",
    "\n",
    "Data Description\n",
    "\n",
    "Date - Date of the Observation in DD-MM-YYYY\n",
    "\n",
    "MinTemp - The Minimum temperature during a particular day. (degree Celsius)\n",
    "\n",
    "MaxTemp - The maximum temperature during a particular day. (degree Celsius)\n",
    "\n",
    "Rainfall - Rainfall during a particular day. (millimeters)\n",
    "\n",
    "Evaporation - Evaporation during a particular day. (millimeters)\n",
    "\n",
    "Sunshine - Bright sunshine during a particular day. (hours)\n",
    "\n",
    "WindGusDir - The direction of the strongest gust during a particular day.(16 compass points)\n",
    "\n",
    "WindGuSpeed - Speed of strongest gust during a particular day. (kilometers per hour)\n",
    "\n",
    "WindDir9am - The direction of the wind for 10 min prior to 9 am. (compass points)\n",
    "\n",
    "WindDir3pm - The direction of the wind for 10 min prior to 3 pm. (compass points)\n",
    "\n",
    "WindSpeed9am - Speed of the wind for 10 min prior to 9 am. (kilometers per hour)\n",
    "\n",
    "WindSpeed3pm - Speed of the wind for 10 min prior to 3 pm. (kilometers per hour)\n",
    "\n",
    "Humidity9am - The humidity of the wind at 9 am. (percent)\n",
    "\n",
    "Humidity3pm - The humidity of the wind at 3 pm. (percent)\n",
    "\n",
    "Pressure9am - Atmospheric pressure at 9 am. (hectopascals)\n",
    "\n",
    "Pressure3pm - Atmospheric pressure at 3 pm. (hectopascals)\n",
    "\n",
    "Cloud9am- Cloud-obscured portions of the sky at 9 am. (eighths)\n",
    "\n",
    "Cloud3pm - Cloud-obscured portions of the sky at 3 pm. (eighths)\n",
    "\n",
    "Temp9am - The temperature at 9 am. (degree Celsius)\n",
    "\n",
    "Temp3pm - The temperature at 3 pm. (degree Celsius)\n",
    "\n",
    "RainToday - If today is rainy then ‘Yes’. If today is not rainy then ‘No’."
   ]
  },
  {
   "cell_type": "markdown",
   "metadata": {},
   "source": [
    "### Import libraries"
   ]
  },
  {
   "cell_type": "code",
   "execution_count": 46,
   "metadata": {},
   "outputs": [],
   "source": [
    "import pandas as pd\n",
    "import matplotlib.pyplot as plt\n",
    "import seaborn as sns\n",
    "import numpy as np\n",
    "\n",
    "from sklearn.linear_model import LinearRegression\n",
    "from sklearn.model_selection import train_test_split\n",
    "from sklearn.preprocessing import StandardScaler\n",
    "from sklearn.linear_model import LogisticRegression, LogisticRegressionCV\n",
    "from sklearn.metrics import accuracy_score, confusion_matrix, classification_report, ConfusionMatrixDisplay\n",
    "#from sklearn.metrics import mean_squared_error, r2_score"
   ]
  },
  {
   "cell_type": "markdown",
   "metadata": {},
   "source": [
    "### 2. Loading data"
   ]
  },
  {
   "cell_type": "code",
   "execution_count": 2,
   "metadata": {},
   "outputs": [],
   "source": [
    "df = pd.read_csv('Weather_Data.csv')"
   ]
  },
  {
   "cell_type": "code",
   "execution_count": 3,
   "metadata": {},
   "outputs": [
    {
     "data": {
      "text/html": [
       "<div>\n",
       "<style scoped>\n",
       "    .dataframe tbody tr th:only-of-type {\n",
       "        vertical-align: middle;\n",
       "    }\n",
       "\n",
       "    .dataframe tbody tr th {\n",
       "        vertical-align: top;\n",
       "    }\n",
       "\n",
       "    .dataframe thead th {\n",
       "        text-align: right;\n",
       "    }\n",
       "</style>\n",
       "<table border=\"1\" class=\"dataframe\">\n",
       "  <thead>\n",
       "    <tr style=\"text-align: right;\">\n",
       "      <th></th>\n",
       "      <th>Date</th>\n",
       "      <th>Temp9am</th>\n",
       "      <th>Temp3pm</th>\n",
       "      <th>MinTemp</th>\n",
       "      <th>MaxTemp</th>\n",
       "      <th>Rainfall</th>\n",
       "      <th>RainToday</th>\n",
       "      <th>Evaporation</th>\n",
       "      <th>Sunshine</th>\n",
       "      <th>WindGustDir</th>\n",
       "      <th>...</th>\n",
       "      <th>WindDir9am</th>\n",
       "      <th>WindDir3pm</th>\n",
       "      <th>WindSpeed9am</th>\n",
       "      <th>WindSpeed3pm</th>\n",
       "      <th>Humidity9am</th>\n",
       "      <th>Humidity3pm</th>\n",
       "      <th>Pressure9am</th>\n",
       "      <th>Pressure3pm</th>\n",
       "      <th>Cloud9am</th>\n",
       "      <th>Cloud3pm</th>\n",
       "    </tr>\n",
       "  </thead>\n",
       "  <tbody>\n",
       "    <tr>\n",
       "      <th>0</th>\n",
       "      <td>01-02-13</td>\n",
       "      <td>20.7</td>\n",
       "      <td>20.9</td>\n",
       "      <td>19.5</td>\n",
       "      <td>22.4</td>\n",
       "      <td>15.6</td>\n",
       "      <td>Yes</td>\n",
       "      <td>6.2</td>\n",
       "      <td>0.0</td>\n",
       "      <td>W</td>\n",
       "      <td>...</td>\n",
       "      <td>S</td>\n",
       "      <td>SSW</td>\n",
       "      <td>17</td>\n",
       "      <td>20</td>\n",
       "      <td>92</td>\n",
       "      <td>84</td>\n",
       "      <td>1017.6</td>\n",
       "      <td>1017.4</td>\n",
       "      <td>8</td>\n",
       "      <td>8</td>\n",
       "    </tr>\n",
       "    <tr>\n",
       "      <th>1</th>\n",
       "      <td>02-02-13</td>\n",
       "      <td>22.4</td>\n",
       "      <td>24.8</td>\n",
       "      <td>19.5</td>\n",
       "      <td>25.6</td>\n",
       "      <td>6.0</td>\n",
       "      <td>Yes</td>\n",
       "      <td>3.4</td>\n",
       "      <td>2.7</td>\n",
       "      <td>W</td>\n",
       "      <td>...</td>\n",
       "      <td>W</td>\n",
       "      <td>E</td>\n",
       "      <td>9</td>\n",
       "      <td>13</td>\n",
       "      <td>83</td>\n",
       "      <td>73</td>\n",
       "      <td>1017.9</td>\n",
       "      <td>1016.4</td>\n",
       "      <td>7</td>\n",
       "      <td>7</td>\n",
       "    </tr>\n",
       "    <tr>\n",
       "      <th>2</th>\n",
       "      <td>03-02-13</td>\n",
       "      <td>23.5</td>\n",
       "      <td>23.0</td>\n",
       "      <td>21.6</td>\n",
       "      <td>24.5</td>\n",
       "      <td>6.6</td>\n",
       "      <td>Yes</td>\n",
       "      <td>2.4</td>\n",
       "      <td>0.1</td>\n",
       "      <td>W</td>\n",
       "      <td>...</td>\n",
       "      <td>ESE</td>\n",
       "      <td>ESE</td>\n",
       "      <td>17</td>\n",
       "      <td>2</td>\n",
       "      <td>88</td>\n",
       "      <td>86</td>\n",
       "      <td>1016.7</td>\n",
       "      <td>1015.6</td>\n",
       "      <td>7</td>\n",
       "      <td>8</td>\n",
       "    </tr>\n",
       "    <tr>\n",
       "      <th>3</th>\n",
       "      <td>04-02-13</td>\n",
       "      <td>21.4</td>\n",
       "      <td>20.9</td>\n",
       "      <td>20.2</td>\n",
       "      <td>22.8</td>\n",
       "      <td>18.8</td>\n",
       "      <td>Yes</td>\n",
       "      <td>2.2</td>\n",
       "      <td>0.0</td>\n",
       "      <td>W</td>\n",
       "      <td>...</td>\n",
       "      <td>NNE</td>\n",
       "      <td>E</td>\n",
       "      <td>22</td>\n",
       "      <td>20</td>\n",
       "      <td>83</td>\n",
       "      <td>90</td>\n",
       "      <td>1014.2</td>\n",
       "      <td>1011.8</td>\n",
       "      <td>8</td>\n",
       "      <td>8</td>\n",
       "    </tr>\n",
       "    <tr>\n",
       "      <th>4</th>\n",
       "      <td>05-02-13</td>\n",
       "      <td>22.5</td>\n",
       "      <td>25.5</td>\n",
       "      <td>19.7</td>\n",
       "      <td>25.7</td>\n",
       "      <td>77.4</td>\n",
       "      <td>Yes</td>\n",
       "      <td>4.8</td>\n",
       "      <td>0.0</td>\n",
       "      <td>W</td>\n",
       "      <td>...</td>\n",
       "      <td>NNE</td>\n",
       "      <td>W</td>\n",
       "      <td>11</td>\n",
       "      <td>6</td>\n",
       "      <td>88</td>\n",
       "      <td>74</td>\n",
       "      <td>1008.3</td>\n",
       "      <td>1004.8</td>\n",
       "      <td>8</td>\n",
       "      <td>8</td>\n",
       "    </tr>\n",
       "  </tbody>\n",
       "</table>\n",
       "<p>5 rows × 21 columns</p>\n",
       "</div>"
      ],
      "text/plain": [
       "       Date  Temp9am  Temp3pm  MinTemp  MaxTemp  Rainfall RainToday  \\\n",
       "0  01-02-13     20.7     20.9     19.5     22.4      15.6       Yes   \n",
       "1  02-02-13     22.4     24.8     19.5     25.6       6.0       Yes   \n",
       "2  03-02-13     23.5     23.0     21.6     24.5       6.6       Yes   \n",
       "3  04-02-13     21.4     20.9     20.2     22.8      18.8       Yes   \n",
       "4  05-02-13     22.5     25.5     19.7     25.7      77.4       Yes   \n",
       "\n",
       "   Evaporation  Sunshine WindGustDir  ...  WindDir9am WindDir3pm WindSpeed9am  \\\n",
       "0          6.2       0.0           W  ...           S        SSW           17   \n",
       "1          3.4       2.7           W  ...           W          E            9   \n",
       "2          2.4       0.1           W  ...         ESE        ESE           17   \n",
       "3          2.2       0.0           W  ...         NNE          E           22   \n",
       "4          4.8       0.0           W  ...         NNE          W           11   \n",
       "\n",
       "   WindSpeed3pm  Humidity9am  Humidity3pm  Pressure9am  Pressure3pm  Cloud9am  \\\n",
       "0            20           92           84       1017.6       1017.4         8   \n",
       "1            13           83           73       1017.9       1016.4         7   \n",
       "2             2           88           86       1016.7       1015.6         7   \n",
       "3            20           83           90       1014.2       1011.8         8   \n",
       "4             6           88           74       1008.3       1004.8         8   \n",
       "\n",
       "   Cloud3pm  \n",
       "0         8  \n",
       "1         7  \n",
       "2         8  \n",
       "3         8  \n",
       "4         8  \n",
       "\n",
       "[5 rows x 21 columns]"
      ]
     },
     "execution_count": 3,
     "metadata": {},
     "output_type": "execute_result"
    }
   ],
   "source": [
    "df.head()"
   ]
  },
  {
   "cell_type": "code",
   "execution_count": 4,
   "metadata": {},
   "outputs": [
    {
     "name": "stdout",
     "output_type": "stream",
     "text": [
      "<class 'pandas.core.frame.DataFrame'>\n",
      "RangeIndex: 3271 entries, 0 to 3270\n",
      "Data columns (total 21 columns):\n",
      " #   Column         Non-Null Count  Dtype  \n",
      "---  ------         --------------  -----  \n",
      " 0   Date           3271 non-null   object \n",
      " 1   Temp9am        3271 non-null   float64\n",
      " 2   Temp3pm        3271 non-null   float64\n",
      " 3   MinTemp        3271 non-null   float64\n",
      " 4   MaxTemp        3271 non-null   float64\n",
      " 5   Rainfall       3271 non-null   float64\n",
      " 6   RainToday      3271 non-null   object \n",
      " 7   Evaporation    3271 non-null   float64\n",
      " 8   Sunshine       3271 non-null   float64\n",
      " 9   WindGustDir    3271 non-null   object \n",
      " 10  WindGustSpeed  3271 non-null   int64  \n",
      " 11  WindDir9am     3271 non-null   object \n",
      " 12  WindDir3pm     3271 non-null   object \n",
      " 13  WindSpeed9am   3271 non-null   int64  \n",
      " 14  WindSpeed3pm   3271 non-null   int64  \n",
      " 15  Humidity9am    3271 non-null   int64  \n",
      " 16  Humidity3pm    3271 non-null   int64  \n",
      " 17  Pressure9am    3271 non-null   float64\n",
      " 18  Pressure3pm    3271 non-null   float64\n",
      " 19  Cloud9am       3271 non-null   int64  \n",
      " 20  Cloud3pm       3271 non-null   int64  \n",
      "dtypes: float64(9), int64(7), object(5)\n",
      "memory usage: 536.8+ KB\n"
     ]
    }
   ],
   "source": [
    "df.info()"
   ]
  },
  {
   "cell_type": "code",
   "execution_count": 8,
   "metadata": {},
   "outputs": [
    {
     "name": "stdout",
     "output_type": "stream",
     "text": [
      "(3271, 16)\n"
     ]
    },
    {
     "data": {
      "text/html": [
       "<div>\n",
       "<style scoped>\n",
       "    .dataframe tbody tr th:only-of-type {\n",
       "        vertical-align: middle;\n",
       "    }\n",
       "\n",
       "    .dataframe tbody tr th {\n",
       "        vertical-align: top;\n",
       "    }\n",
       "\n",
       "    .dataframe thead th {\n",
       "        text-align: right;\n",
       "    }\n",
       "</style>\n",
       "<table border=\"1\" class=\"dataframe\">\n",
       "  <thead>\n",
       "    <tr style=\"text-align: right;\">\n",
       "      <th></th>\n",
       "      <th>Temp9am</th>\n",
       "      <th>Temp3pm</th>\n",
       "      <th>MinTemp</th>\n",
       "      <th>MaxTemp</th>\n",
       "      <th>Rainfall</th>\n",
       "      <th>Evaporation</th>\n",
       "      <th>Sunshine</th>\n",
       "      <th>WindGustSpeed</th>\n",
       "      <th>WindSpeed9am</th>\n",
       "      <th>WindSpeed3pm</th>\n",
       "      <th>Humidity9am</th>\n",
       "      <th>Humidity3pm</th>\n",
       "      <th>Pressure9am</th>\n",
       "      <th>Pressure3pm</th>\n",
       "      <th>Cloud9am</th>\n",
       "      <th>Cloud3pm</th>\n",
       "    </tr>\n",
       "  </thead>\n",
       "  <tbody>\n",
       "    <tr>\n",
       "      <th>Temp9am</th>\n",
       "      <td>1.000000</td>\n",
       "      <td>0.828457</td>\n",
       "      <td>0.939307</td>\n",
       "      <td>0.858639</td>\n",
       "      <td>-0.054297</td>\n",
       "      <td>0.606122</td>\n",
       "      <td>0.113891</td>\n",
       "      <td>0.159570</td>\n",
       "      <td>-0.334084</td>\n",
       "      <td>0.280009</td>\n",
       "      <td>-0.145944</td>\n",
       "      <td>0.131855</td>\n",
       "      <td>-0.417437</td>\n",
       "      <td>-0.401353</td>\n",
       "      <td>0.093204</td>\n",
       "      <td>0.068683</td>\n",
       "    </tr>\n",
       "    <tr>\n",
       "      <th>Temp3pm</th>\n",
       "      <td>0.828457</td>\n",
       "      <td>1.000000</td>\n",
       "      <td>0.753147</td>\n",
       "      <td>0.960805</td>\n",
       "      <td>-0.142748</td>\n",
       "      <td>0.474599</td>\n",
       "      <td>0.345528</td>\n",
       "      <td>0.036216</td>\n",
       "      <td>-0.351836</td>\n",
       "      <td>0.136713</td>\n",
       "      <td>-0.155192</td>\n",
       "      <td>-0.212696</td>\n",
       "      <td>-0.342862</td>\n",
       "      <td>-0.387945</td>\n",
       "      <td>-0.086544</td>\n",
       "      <td>-0.144965</td>\n",
       "    </tr>\n",
       "    <tr>\n",
       "      <th>MinTemp</th>\n",
       "      <td>0.939307</td>\n",
       "      <td>0.753147</td>\n",
       "      <td>1.000000</td>\n",
       "      <td>0.771005</td>\n",
       "      <td>0.013995</td>\n",
       "      <td>0.569316</td>\n",
       "      <td>-0.063475</td>\n",
       "      <td>0.127792</td>\n",
       "      <td>-0.298040</td>\n",
       "      <td>0.225905</td>\n",
       "      <td>0.053946</td>\n",
       "      <td>0.273269</td>\n",
       "      <td>-0.391654</td>\n",
       "      <td>-0.353334</td>\n",
       "      <td>0.241248</td>\n",
       "      <td>0.164028</td>\n",
       "    </tr>\n",
       "    <tr>\n",
       "      <th>MaxTemp</th>\n",
       "      <td>0.858639</td>\n",
       "      <td>0.960805</td>\n",
       "      <td>0.771005</td>\n",
       "      <td>1.000000</td>\n",
       "      <td>-0.139306</td>\n",
       "      <td>0.510334</td>\n",
       "      <td>0.327422</td>\n",
       "      <td>0.073184</td>\n",
       "      <td>-0.349382</td>\n",
       "      <td>0.155542</td>\n",
       "      <td>-0.185382</td>\n",
       "      <td>-0.150741</td>\n",
       "      <td>-0.385853</td>\n",
       "      <td>-0.420375</td>\n",
       "      <td>-0.084695</td>\n",
       "      <td>-0.099217</td>\n",
       "    </tr>\n",
       "    <tr>\n",
       "      <th>Rainfall</th>\n",
       "      <td>-0.054297</td>\n",
       "      <td>-0.142748</td>\n",
       "      <td>0.013995</td>\n",
       "      <td>-0.139306</td>\n",
       "      <td>1.000000</td>\n",
       "      <td>-0.110343</td>\n",
       "      <td>-0.308962</td>\n",
       "      <td>0.149811</td>\n",
       "      <td>0.153696</td>\n",
       "      <td>0.039415</td>\n",
       "      <td>0.332636</td>\n",
       "      <td>0.305635</td>\n",
       "      <td>-0.037561</td>\n",
       "      <td>0.001780</td>\n",
       "      <td>0.245231</td>\n",
       "      <td>0.200999</td>\n",
       "    </tr>\n",
       "    <tr>\n",
       "      <th>Evaporation</th>\n",
       "      <td>0.606122</td>\n",
       "      <td>0.474599</td>\n",
       "      <td>0.569316</td>\n",
       "      <td>0.510334</td>\n",
       "      <td>-0.110343</td>\n",
       "      <td>1.000000</td>\n",
       "      <td>0.175932</td>\n",
       "      <td>0.245426</td>\n",
       "      <td>-0.077532</td>\n",
       "      <td>0.292469</td>\n",
       "      <td>-0.395651</td>\n",
       "      <td>-0.102295</td>\n",
       "      <td>-0.343581</td>\n",
       "      <td>-0.298303</td>\n",
       "      <td>-0.037051</td>\n",
       "      <td>-0.038422</td>\n",
       "    </tr>\n",
       "    <tr>\n",
       "      <th>Sunshine</th>\n",
       "      <td>0.113891</td>\n",
       "      <td>0.345528</td>\n",
       "      <td>-0.063475</td>\n",
       "      <td>0.327422</td>\n",
       "      <td>-0.308962</td>\n",
       "      <td>0.175932</td>\n",
       "      <td>1.000000</td>\n",
       "      <td>-0.029032</td>\n",
       "      <td>-0.058410</td>\n",
       "      <td>0.177813</td>\n",
       "      <td>-0.490631</td>\n",
       "      <td>-0.586476</td>\n",
       "      <td>-0.047789</td>\n",
       "      <td>-0.094507</td>\n",
       "      <td>-0.665014</td>\n",
       "      <td>-0.677861</td>\n",
       "    </tr>\n",
       "    <tr>\n",
       "      <th>WindGustSpeed</th>\n",
       "      <td>0.159570</td>\n",
       "      <td>0.036216</td>\n",
       "      <td>0.127792</td>\n",
       "      <td>0.073184</td>\n",
       "      <td>0.149811</td>\n",
       "      <td>0.245426</td>\n",
       "      <td>-0.029032</td>\n",
       "      <td>1.000000</td>\n",
       "      <td>0.256460</td>\n",
       "      <td>0.509825</td>\n",
       "      <td>-0.225613</td>\n",
       "      <td>-0.095037</td>\n",
       "      <td>-0.408876</td>\n",
       "      <td>-0.351850</td>\n",
       "      <td>0.024275</td>\n",
       "      <td>0.044016</td>\n",
       "    </tr>\n",
       "    <tr>\n",
       "      <th>WindSpeed9am</th>\n",
       "      <td>-0.334084</td>\n",
       "      <td>-0.351836</td>\n",
       "      <td>-0.298040</td>\n",
       "      <td>-0.349382</td>\n",
       "      <td>0.153696</td>\n",
       "      <td>-0.077532</td>\n",
       "      <td>-0.058410</td>\n",
       "      <td>0.256460</td>\n",
       "      <td>1.000000</td>\n",
       "      <td>0.197669</td>\n",
       "      <td>-0.189763</td>\n",
       "      <td>-0.148849</td>\n",
       "      <td>0.003737</td>\n",
       "      <td>0.091878</td>\n",
       "      <td>-0.062441</td>\n",
       "      <td>-0.018030</td>\n",
       "    </tr>\n",
       "    <tr>\n",
       "      <th>WindSpeed3pm</th>\n",
       "      <td>0.280009</td>\n",
       "      <td>0.136713</td>\n",
       "      <td>0.225905</td>\n",
       "      <td>0.155542</td>\n",
       "      <td>0.039415</td>\n",
       "      <td>0.292469</td>\n",
       "      <td>0.177813</td>\n",
       "      <td>0.509825</td>\n",
       "      <td>0.197669</td>\n",
       "      <td>1.000000</td>\n",
       "      <td>-0.288910</td>\n",
       "      <td>-0.135039</td>\n",
       "      <td>-0.333810</td>\n",
       "      <td>-0.277749</td>\n",
       "      <td>-0.050932</td>\n",
       "      <td>-0.095435</td>\n",
       "    </tr>\n",
       "    <tr>\n",
       "      <th>Humidity9am</th>\n",
       "      <td>-0.145944</td>\n",
       "      <td>-0.155192</td>\n",
       "      <td>0.053946</td>\n",
       "      <td>-0.185382</td>\n",
       "      <td>0.332636</td>\n",
       "      <td>-0.395651</td>\n",
       "      <td>-0.490631</td>\n",
       "      <td>-0.225613</td>\n",
       "      <td>-0.189763</td>\n",
       "      <td>-0.288910</td>\n",
       "      <td>1.000000</td>\n",
       "      <td>0.657933</td>\n",
       "      <td>0.262098</td>\n",
       "      <td>0.249202</td>\n",
       "      <td>0.431550</td>\n",
       "      <td>0.331062</td>\n",
       "    </tr>\n",
       "    <tr>\n",
       "      <th>Humidity3pm</th>\n",
       "      <td>0.131855</td>\n",
       "      <td>-0.212696</td>\n",
       "      <td>0.273269</td>\n",
       "      <td>-0.150741</td>\n",
       "      <td>0.305635</td>\n",
       "      <td>-0.102295</td>\n",
       "      <td>-0.586476</td>\n",
       "      <td>-0.095037</td>\n",
       "      <td>-0.148849</td>\n",
       "      <td>-0.135039</td>\n",
       "      <td>0.657933</td>\n",
       "      <td>1.000000</td>\n",
       "      <td>0.151608</td>\n",
       "      <td>0.179611</td>\n",
       "      <td>0.463529</td>\n",
       "      <td>0.472248</td>\n",
       "    </tr>\n",
       "    <tr>\n",
       "      <th>Pressure9am</th>\n",
       "      <td>-0.417437</td>\n",
       "      <td>-0.342862</td>\n",
       "      <td>-0.391654</td>\n",
       "      <td>-0.385853</td>\n",
       "      <td>-0.037561</td>\n",
       "      <td>-0.343581</td>\n",
       "      <td>-0.047789</td>\n",
       "      <td>-0.408876</td>\n",
       "      <td>0.003737</td>\n",
       "      <td>-0.333810</td>\n",
       "      <td>0.262098</td>\n",
       "      <td>0.151608</td>\n",
       "      <td>1.000000</td>\n",
       "      <td>0.963307</td>\n",
       "      <td>-0.015889</td>\n",
       "      <td>-0.039509</td>\n",
       "    </tr>\n",
       "    <tr>\n",
       "      <th>Pressure3pm</th>\n",
       "      <td>-0.401353</td>\n",
       "      <td>-0.387945</td>\n",
       "      <td>-0.353334</td>\n",
       "      <td>-0.420375</td>\n",
       "      <td>0.001780</td>\n",
       "      <td>-0.298303</td>\n",
       "      <td>-0.094507</td>\n",
       "      <td>-0.351850</td>\n",
       "      <td>0.091878</td>\n",
       "      <td>-0.277749</td>\n",
       "      <td>0.249202</td>\n",
       "      <td>0.179611</td>\n",
       "      <td>0.963307</td>\n",
       "      <td>1.000000</td>\n",
       "      <td>0.013787</td>\n",
       "      <td>-0.003536</td>\n",
       "    </tr>\n",
       "    <tr>\n",
       "      <th>Cloud9am</th>\n",
       "      <td>0.093204</td>\n",
       "      <td>-0.086544</td>\n",
       "      <td>0.241248</td>\n",
       "      <td>-0.084695</td>\n",
       "      <td>0.245231</td>\n",
       "      <td>-0.037051</td>\n",
       "      <td>-0.665014</td>\n",
       "      <td>0.024275</td>\n",
       "      <td>-0.062441</td>\n",
       "      <td>-0.050932</td>\n",
       "      <td>0.431550</td>\n",
       "      <td>0.463529</td>\n",
       "      <td>-0.015889</td>\n",
       "      <td>0.013787</td>\n",
       "      <td>1.000000</td>\n",
       "      <td>0.604359</td>\n",
       "    </tr>\n",
       "    <tr>\n",
       "      <th>Cloud3pm</th>\n",
       "      <td>0.068683</td>\n",
       "      <td>-0.144965</td>\n",
       "      <td>0.164028</td>\n",
       "      <td>-0.099217</td>\n",
       "      <td>0.200999</td>\n",
       "      <td>-0.038422</td>\n",
       "      <td>-0.677861</td>\n",
       "      <td>0.044016</td>\n",
       "      <td>-0.018030</td>\n",
       "      <td>-0.095435</td>\n",
       "      <td>0.331062</td>\n",
       "      <td>0.472248</td>\n",
       "      <td>-0.039509</td>\n",
       "      <td>-0.003536</td>\n",
       "      <td>0.604359</td>\n",
       "      <td>1.000000</td>\n",
       "    </tr>\n",
       "  </tbody>\n",
       "</table>\n",
       "</div>"
      ],
      "text/plain": [
       "                Temp9am   Temp3pm   MinTemp   MaxTemp  Rainfall  Evaporation  \\\n",
       "Temp9am        1.000000  0.828457  0.939307  0.858639 -0.054297     0.606122   \n",
       "Temp3pm        0.828457  1.000000  0.753147  0.960805 -0.142748     0.474599   \n",
       "MinTemp        0.939307  0.753147  1.000000  0.771005  0.013995     0.569316   \n",
       "MaxTemp        0.858639  0.960805  0.771005  1.000000 -0.139306     0.510334   \n",
       "Rainfall      -0.054297 -0.142748  0.013995 -0.139306  1.000000    -0.110343   \n",
       "Evaporation    0.606122  0.474599  0.569316  0.510334 -0.110343     1.000000   \n",
       "Sunshine       0.113891  0.345528 -0.063475  0.327422 -0.308962     0.175932   \n",
       "WindGustSpeed  0.159570  0.036216  0.127792  0.073184  0.149811     0.245426   \n",
       "WindSpeed9am  -0.334084 -0.351836 -0.298040 -0.349382  0.153696    -0.077532   \n",
       "WindSpeed3pm   0.280009  0.136713  0.225905  0.155542  0.039415     0.292469   \n",
       "Humidity9am   -0.145944 -0.155192  0.053946 -0.185382  0.332636    -0.395651   \n",
       "Humidity3pm    0.131855 -0.212696  0.273269 -0.150741  0.305635    -0.102295   \n",
       "Pressure9am   -0.417437 -0.342862 -0.391654 -0.385853 -0.037561    -0.343581   \n",
       "Pressure3pm   -0.401353 -0.387945 -0.353334 -0.420375  0.001780    -0.298303   \n",
       "Cloud9am       0.093204 -0.086544  0.241248 -0.084695  0.245231    -0.037051   \n",
       "Cloud3pm       0.068683 -0.144965  0.164028 -0.099217  0.200999    -0.038422   \n",
       "\n",
       "               Sunshine  WindGustSpeed  WindSpeed9am  WindSpeed3pm  \\\n",
       "Temp9am        0.113891       0.159570     -0.334084      0.280009   \n",
       "Temp3pm        0.345528       0.036216     -0.351836      0.136713   \n",
       "MinTemp       -0.063475       0.127792     -0.298040      0.225905   \n",
       "MaxTemp        0.327422       0.073184     -0.349382      0.155542   \n",
       "Rainfall      -0.308962       0.149811      0.153696      0.039415   \n",
       "Evaporation    0.175932       0.245426     -0.077532      0.292469   \n",
       "Sunshine       1.000000      -0.029032     -0.058410      0.177813   \n",
       "WindGustSpeed -0.029032       1.000000      0.256460      0.509825   \n",
       "WindSpeed9am  -0.058410       0.256460      1.000000      0.197669   \n",
       "WindSpeed3pm   0.177813       0.509825      0.197669      1.000000   \n",
       "Humidity9am   -0.490631      -0.225613     -0.189763     -0.288910   \n",
       "Humidity3pm   -0.586476      -0.095037     -0.148849     -0.135039   \n",
       "Pressure9am   -0.047789      -0.408876      0.003737     -0.333810   \n",
       "Pressure3pm   -0.094507      -0.351850      0.091878     -0.277749   \n",
       "Cloud9am      -0.665014       0.024275     -0.062441     -0.050932   \n",
       "Cloud3pm      -0.677861       0.044016     -0.018030     -0.095435   \n",
       "\n",
       "               Humidity9am  Humidity3pm  Pressure9am  Pressure3pm  Cloud9am  \\\n",
       "Temp9am          -0.145944     0.131855    -0.417437    -0.401353  0.093204   \n",
       "Temp3pm          -0.155192    -0.212696    -0.342862    -0.387945 -0.086544   \n",
       "MinTemp           0.053946     0.273269    -0.391654    -0.353334  0.241248   \n",
       "MaxTemp          -0.185382    -0.150741    -0.385853    -0.420375 -0.084695   \n",
       "Rainfall          0.332636     0.305635    -0.037561     0.001780  0.245231   \n",
       "Evaporation      -0.395651    -0.102295    -0.343581    -0.298303 -0.037051   \n",
       "Sunshine         -0.490631    -0.586476    -0.047789    -0.094507 -0.665014   \n",
       "WindGustSpeed    -0.225613    -0.095037    -0.408876    -0.351850  0.024275   \n",
       "WindSpeed9am     -0.189763    -0.148849     0.003737     0.091878 -0.062441   \n",
       "WindSpeed3pm     -0.288910    -0.135039    -0.333810    -0.277749 -0.050932   \n",
       "Humidity9am       1.000000     0.657933     0.262098     0.249202  0.431550   \n",
       "Humidity3pm       0.657933     1.000000     0.151608     0.179611  0.463529   \n",
       "Pressure9am       0.262098     0.151608     1.000000     0.963307 -0.015889   \n",
       "Pressure3pm       0.249202     0.179611     0.963307     1.000000  0.013787   \n",
       "Cloud9am          0.431550     0.463529    -0.015889     0.013787  1.000000   \n",
       "Cloud3pm          0.331062     0.472248    -0.039509    -0.003536  0.604359   \n",
       "\n",
       "               Cloud3pm  \n",
       "Temp9am        0.068683  \n",
       "Temp3pm       -0.144965  \n",
       "MinTemp        0.164028  \n",
       "MaxTemp       -0.099217  \n",
       "Rainfall       0.200999  \n",
       "Evaporation   -0.038422  \n",
       "Sunshine      -0.677861  \n",
       "WindGustSpeed  0.044016  \n",
       "WindSpeed9am  -0.018030  \n",
       "WindSpeed3pm  -0.095435  \n",
       "Humidity9am    0.331062  \n",
       "Humidity3pm    0.472248  \n",
       "Pressure9am   -0.039509  \n",
       "Pressure3pm   -0.003536  \n",
       "Cloud9am       0.604359  \n",
       "Cloud3pm       1.000000  "
      ]
     },
     "execution_count": 8,
     "metadata": {},
     "output_type": "execute_result"
    }
   ],
   "source": [
    "numeric_df = df.select_dtypes(include=['float64','int64'])\n",
    "print(numeric_df.shape)\n",
    "numeric_df.corr()"
   ]
  },
  {
   "cell_type": "code",
   "execution_count": 9,
   "metadata": {},
   "outputs": [
    {
     "data": {
      "text/plain": [
       "RainToday\n",
       "No     2422\n",
       "Yes     849\n",
       "Name: count, dtype: int64"
      ]
     },
     "execution_count": 9,
     "metadata": {},
     "output_type": "execute_result"
    }
   ],
   "source": [
    "df['RainToday'].value_counts()"
   ]
  },
  {
   "cell_type": "code",
   "execution_count": 15,
   "metadata": {},
   "outputs": [
    {
     "data": {
      "image/png": "[encoded data removed]",
      "text/plain": [
       "<Figure size 500x300 with 1 Axes>"
      ]
     },
     "metadata": {},
     "output_type": "display_data"
    }
   ],
   "source": [
    "plt.figure(figsize=(5,3))\n",
    "sns.countplot(data = df, x = 'RainToday')\n",
    "plt.draw()"
   ]
  },
  {
   "cell_type": "code",
   "execution_count": 22,
   "metadata": {},
   "outputs": [
    {
     "data": {
      "image/png": "[encoded data removed]",
      "text/plain": [
       "<Figure size 500x300 with 1 Axes>"
      ]
     },
     "metadata": {},
     "output_type": "display_data"
    }
   ],
   "source": [
    "plt.figure(figsize=(5,3))\n",
    "sns.boxplot(x='RainToday',y='Humidity9am',data = df)\n",
    "plt.show()"
   ]
  },
  {
   "cell_type": "code",
   "execution_count": 20,
   "metadata": {},
   "outputs": [
    {
     "data": {
      "image/png": "[encoded data removed]",
      "text/plain": [
       "<Figure size 500x300 with 1 Axes>"
      ]
     },
     "metadata": {},
     "output_type": "display_data"
    }
   ],
   "source": [
    "plt.figure(figsize=(5,3))\n",
    "sns.boxplot(x='RainToday',y='Cloud9am',data = df)\n",
    "plt.show()"
   ]
  },
  {
   "cell_type": "code",
   "execution_count": 24,
   "metadata": {},
   "outputs": [
    {
     "data": {
      "image/png": "[encoded data removed]",
      "text/plain": [
       "<Figure size 500x400 with 1 Axes>"
      ]
     },
     "metadata": {},
     "output_type": "display_data"
    }
   ],
   "source": [
    "\n",
    "plt.figure(figsize=(5,4))\n",
    "sns.scatterplot(x='Humidity9am',y='Cloud9am',data=df, hue='RainToday')\n",
    "plt.show()"
   ]
  },
  {
   "cell_type": "code",
   "execution_count": 32,
   "metadata": {},
   "outputs": [
    {
     "name": "stderr",
     "output_type": "stream",
     "text": [
      "/tmp/ipykernel_16332/257008799.py:3: SettingWithCopyWarning: \n",
      "A value is trying to be set on a copy of a slice from a DataFrame.\n",
      "Try using .loc[row_indexer,col_indexer] = value instead\n",
      "\n",
      "See the caveats in the documentation: https://pandas.pydata.org/pandas-docs/stable/user_guide/indexing.html#returning-a-view-versus-a-copy\n",
      "  df_red['RainToday'] = df_red['RainToday'].replace({'Yes':1, 'No':0})\n"
     ]
    },
    {
     "data": {
      "image/png": "[encoded data removed]",
      "text/plain": [
       "<Figure size 640x480 with 2 Axes>"
      ]
     },
     "metadata": {},
     "output_type": "display_data"
    }
   ],
   "source": [
    "df_red = df[['Cloud9am','Humidity9am','RainToday']]\n",
    "\n",
    "df_red['RainToday'] = df_red['RainToday'].replace({'Yes':1, 'No':0})\n",
    "\n",
    "sns.heatmap(df_red.corr(),annot=True)\n",
    "plt.show()"
   ]
  },
  {
   "cell_type": "code",
   "execution_count": 34,
   "metadata": {},
   "outputs": [
    {
     "data": {
      "text/html": [
       "<div>\n",
       "<style scoped>\n",
       "    .dataframe tbody tr th:only-of-type {\n",
       "        vertical-align: middle;\n",
       "    }\n",
       "\n",
       "    .dataframe tbody tr th {\n",
       "        vertical-align: top;\n",
       "    }\n",
       "\n",
       "    .dataframe thead th {\n",
       "        text-align: right;\n",
       "    }\n",
       "</style>\n",
       "<table border=\"1\" class=\"dataframe\">\n",
       "  <thead>\n",
       "    <tr style=\"text-align: right;\">\n",
       "      <th></th>\n",
       "      <th>Cloud9am</th>\n",
       "      <th>Humidity9am</th>\n",
       "      <th>RainToday</th>\n",
       "    </tr>\n",
       "  </thead>\n",
       "  <tbody>\n",
       "    <tr>\n",
       "      <th>0</th>\n",
       "      <td>8</td>\n",
       "      <td>92</td>\n",
       "      <td>1</td>\n",
       "    </tr>\n",
       "    <tr>\n",
       "      <th>1</th>\n",
       "      <td>7</td>\n",
       "      <td>83</td>\n",
       "      <td>1</td>\n",
       "    </tr>\n",
       "    <tr>\n",
       "      <th>2</th>\n",
       "      <td>7</td>\n",
       "      <td>88</td>\n",
       "      <td>1</td>\n",
       "    </tr>\n",
       "    <tr>\n",
       "      <th>3</th>\n",
       "      <td>8</td>\n",
       "      <td>83</td>\n",
       "      <td>1</td>\n",
       "    </tr>\n",
       "    <tr>\n",
       "      <th>4</th>\n",
       "      <td>8</td>\n",
       "      <td>88</td>\n",
       "      <td>1</td>\n",
       "    </tr>\n",
       "    <tr>\n",
       "      <th>...</th>\n",
       "      <td>...</td>\n",
       "      <td>...</td>\n",
       "      <td>...</td>\n",
       "    </tr>\n",
       "    <tr>\n",
       "      <th>3266</th>\n",
       "      <td>2</td>\n",
       "      <td>73</td>\n",
       "      <td>0</td>\n",
       "    </tr>\n",
       "    <tr>\n",
       "      <th>3267</th>\n",
       "      <td>2</td>\n",
       "      <td>78</td>\n",
       "      <td>0</td>\n",
       "    </tr>\n",
       "    <tr>\n",
       "      <th>3268</th>\n",
       "      <td>6</td>\n",
       "      <td>85</td>\n",
       "      <td>0</td>\n",
       "    </tr>\n",
       "    <tr>\n",
       "      <th>3269</th>\n",
       "      <td>5</td>\n",
       "      <td>56</td>\n",
       "      <td>0</td>\n",
       "    </tr>\n",
       "    <tr>\n",
       "      <th>3270</th>\n",
       "      <td>1</td>\n",
       "      <td>73</td>\n",
       "      <td>0</td>\n",
       "    </tr>\n",
       "  </tbody>\n",
       "</table>\n",
       "<p>3271 rows × 3 columns</p>\n",
       "</div>"
      ],
      "text/plain": [
       "      Cloud9am  Humidity9am  RainToday\n",
       "0            8           92          1\n",
       "1            7           83          1\n",
       "2            7           88          1\n",
       "3            8           83          1\n",
       "4            8           88          1\n",
       "...        ...          ...        ...\n",
       "3266         2           73          0\n",
       "3267         2           78          0\n",
       "3268         6           85          0\n",
       "3269         5           56          0\n",
       "3270         1           73          0\n",
       "\n",
       "[3271 rows x 3 columns]"
      ]
     },
     "execution_count": 34,
     "metadata": {},
     "output_type": "execute_result"
    }
   ],
   "source": [
    "df_red"
   ]
  },
  {
   "cell_type": "code",
   "execution_count": 36,
   "metadata": {},
   "outputs": [
    {
     "data": {
      "text/plain": [
       "<Axes: xlabel='Humidity9am', ylabel='RainToday'>"
      ]
     },
     "execution_count": 36,
     "metadata": {},
     "output_type": "execute_result"
    },
    {
     "data": {
      "image/png": "[encoded data removed]",
      "text/plain": [
       "<Figure size 640x480 with 1 Axes>"
      ]
     },
     "metadata": {},
     "output_type": "display_data"
    }
   ],
   "source": [
    "sns.scatterplot(x='Humidity9am',y='RainToday', data=df_red)"
   ]
  },
  {
   "cell_type": "code",
   "execution_count": 37,
   "metadata": {},
   "outputs": [],
   "source": [
    "X = df_red.drop('RainToday',axis=1)\n",
    "y = df_red['RainToday']\n"
   ]
  },
  {
   "cell_type": "code",
   "execution_count": 39,
   "metadata": {},
   "outputs": [],
   "source": [
    "X_train, X_test, y_train, y_test = train_test_split(X,y, test_size=0.1, random_state=10)"
   ]
  },
  {
   "cell_type": "code",
   "execution_count": 40,
   "metadata": {},
   "outputs": [],
   "source": [
    "scaler = StandardScaler()"
   ]
  },
  {
   "cell_type": "code",
   "execution_count": 41,
   "metadata": {},
   "outputs": [],
   "source": [
    "scaled_X_train = scaler.fit_transform(X_train)\n",
    "scaled_X_test = scaler.transform(X_test)"
   ]
  },
  {
   "cell_type": "markdown",
   "metadata": {},
   "source": [
    "#### Modèle de Régression Logitisque"
   ]
  },
  {
   "cell_type": "code",
   "execution_count": 44,
   "metadata": {},
   "outputs": [
    {
     "data": {
      "text/html": [
       "<style>#sk-container-id-1 {color: black;}#sk-container-id-1 pre{padding: 0;}#sk-container-id-1 div.sk-toggleable {background-color: white;}#sk-container-id-1 label.sk-toggleable__label {cursor: pointer;display: block;width: 100%;margin-bottom: 0;padding: 0.3em;box-sizing: border-box;text-align: center;}#sk-container-id-1 label.sk-toggleable__label-arrow:before {content: \"▸\";float: left;margin-right: 0.25em;color: #696969;}#sk-container-id-1 label.sk-toggleable__label-arrow:hover:before {color: black;}#sk-container-id-1 div.sk-estimator:hover label.sk-toggleable__label-arrow:before {color: black;}#sk-container-id-1 div.sk-toggleable__content {max-height: 0;max-width: 0;overflow: hidden;text-align: left;background-color: #f0f8ff;}#sk-container-id-1 div.sk-toggleable__content pre {margin: 0.2em;color: black;border-radius: 0.25em;background-color: #f0f8ff;}#sk-container-id-1 input.sk-toggleable__control:checked~div.sk-toggleable__content {max-height: 200px;max-width: 100%;overflow: auto;}#sk-container-id-1 input.sk-toggleable__control:checked~label.sk-toggleable__label-arrow:before {content: \"▾\";}#sk-container-id-1 div.sk-estimator input.sk-toggleable__control:checked~label.sk-toggleable__label {background-color: #d4ebff;}#sk-container-id-1 div.sk-label input.sk-toggleable__control:checked~label.sk-toggleable__label {background-color: #d4ebff;}#sk-container-id-1 input.sk-hidden--visually {border: 0;clip: rect(1px 1px 1px 1px);clip: rect(1px, 1px, 1px, 1px);height: 1px;margin: -1px;overflow: hidden;padding: 0;position: absolute;width: 1px;}#sk-container-id-1 div.sk-estimator {font-family: monospace;background-color: #f0f8ff;border: 1px dotted black;border-radius: 0.25em;box-sizing: border-box;margin-bottom: 0.5em;}#sk-container-id-1 div.sk-estimator:hover {background-color: #d4ebff;}#sk-container-id-1 div.sk-parallel-item::after {content: \"\";width: 100%;border-bottom: 1px solid gray;flex-grow: 1;}#sk-container-id-1 div.sk-label:hover label.sk-toggleable__label {background-color: #d4ebff;}#sk-container-id-1 div.sk-serial::before {content: \"\";position: absolute;border-left: 1px solid gray;box-sizing: border-box;top: 0;bottom: 0;left: 50%;z-index: 0;}#sk-container-id-1 div.sk-serial {display: flex;flex-direction: column;align-items: center;background-color: white;padding-right: 0.2em;padding-left: 0.2em;position: relative;}#sk-container-id-1 div.sk-item {position: relative;z-index: 1;}#sk-container-id-1 div.sk-parallel {display: flex;align-items: stretch;justify-content: center;background-color: white;position: relative;}#sk-container-id-1 div.sk-item::before, #sk-container-id-1 div.sk-parallel-item::before {content: \"\";position: absolute;border-left: 1px solid gray;box-sizing: border-box;top: 0;bottom: 0;left: 50%;z-index: -1;}#sk-container-id-1 div.sk-parallel-item {display: flex;flex-direction: column;z-index: 1;position: relative;background-color: white;}#sk-container-id-1 div.sk-parallel-item:first-child::after {align-self: flex-end;width: 50%;}#sk-container-id-1 div.sk-parallel-item:last-child::after {align-self: flex-start;width: 50%;}#sk-container-id-1 div.sk-parallel-item:only-child::after {width: 0;}#sk-container-id-1 div.sk-dashed-wrapped {border: 1px dashed gray;margin: 0 0.4em 0.5em 0.4em;box-sizing: border-box;padding-bottom: 0.4em;background-color: white;}#sk-container-id-1 div.sk-label label {font-family: monospace;font-weight: bold;display: inline-block;line-height: 1.2em;}#sk-container-id-1 div.sk-label-container {text-align: center;}#sk-container-id-1 div.sk-container {/* jupyter's `normalize.less` sets `[hidden] { display: none; }` but bootstrap.min.css set `[hidden] { display: none !important; }` so we also need the `!important` here to be able to override the default hidden behavior on the sphinx rendered scikit-learn.org. See: https://github.com/scikit-learn/scikit-learn/issues/21755 */display: inline-block !important;position: relative;}#sk-container-id-1 div.sk-text-repr-fallback {display: none;}</style><div id=\"sk-container-id-1\" class=\"sk-top-container\"><div class=\"sk-text-repr-fallback\"><pre>LogisticRegression()</pre><b>In a Jupyter environment, please rerun this cell to show the HTML representation or trust the notebook. <br />On GitHub, the HTML representation is unable to render, please try loading this page with nbviewer.org.</b></div><div class=\"sk-container\" hidden><div class=\"sk-item\"><div class=\"sk-estimator sk-toggleable\"><input class=\"sk-toggleable__control sk-hidden--visually\" id=\"sk-estimator-id-1\" type=\"checkbox\" checked><label for=\"sk-estimator-id-1\" class=\"sk-toggleable__label sk-toggleable__label-arrow\">LogisticRegression</label><div class=\"sk-toggleable__content\"><pre>LogisticRegression()</pre></div></div></div></div></div>"
      ],
      "text/plain": [
       "LogisticRegression()"
      ]
     },
     "execution_count": 44,
     "metadata": {},
     "output_type": "execute_result"
    }
   ],
   "source": [
    "log_model = LogisticRegression()\n",
    "log_model.fit(scaled_X_train, y_train)"
   ]
  },
  {
   "cell_type": "code",
   "execution_count": 45,
   "metadata": {},
   "outputs": [
    {
     "data": {
      "text/plain": [
       "array([[0.70593337, 0.60991365]])"
      ]
     },
     "execution_count": 45,
     "metadata": {},
     "output_type": "execute_result"
    }
   ],
   "source": [
    "log_model.coef_"
   ]
  },
  {
   "cell_type": "markdown",
   "metadata": {},
   "source": [
    "#### Performance du modèle"
   ]
  },
  {
   "cell_type": "code",
   "execution_count": 48,
   "metadata": {},
   "outputs": [
    {
     "data": {
      "text/plain": [
       "0.7896341463414634"
      ]
     },
     "execution_count": 48,
     "metadata": {},
     "output_type": "execute_result"
    }
   ],
   "source": [
    "y_pred = log_model.predict(scaled_X_test)\n",
    "accuracy_score(y_test,y_pred)\n",
    "\n",
    "# accuracy : Nombre de prédictions correctes / Nombre total de prédictions"
   ]
  },
  {
   "cell_type": "code",
   "execution_count": 49,
   "metadata": {},
   "outputs": [
    {
     "data": {
      "text/plain": [
       "array([[227,   9],\n",
       "       [ 60,  32]])"
      ]
     },
     "execution_count": 49,
     "metadata": {},
     "output_type": "execute_result"
    }
   ],
   "source": [
    "confusion_matrix(y_test,y_pred)"
   ]
  },
  {
   "cell_type": "code",
   "execution_count": 53,
   "metadata": {},
   "outputs": [
    {
     "data": {
      "text/plain": [
       "<Figure size 400x500 with 0 Axes>"
      ]
     },
     "metadata": {},
     "output_type": "display_data"
    },
    {
     "data": {
      "image/png": "[encoded data removed]",
      "text/plain": [
       "<Figure size 640x480 with 2 Axes>"
      ]
     },
     "metadata": {},
     "output_type": "display_data"
    }
   ],
   "source": [
    "plt.figure(figsize=(4,5))\n",
    "ConfusionMatrixDisplay.from_estimator(log_model,scaled_X_test,y_test);\n",
    "\n",
    "#32 échantillons ont été correctement classés comme positifs (classe 1) par le modèle (vrais positifs).\n",
    "#9 échantillons ont été incorrectement classés comme positifs alors qu'ils étaient négatifs (faux positifs).\n",
    "#60 échantillons ont été incorrectement classés comme négatifs alors qu'ils étaient positifs (faux négatifs).\n",
    "#227 échantillons ont été correctement classés comme négatifs (vrais négatifs)."
   ]
  },
  {
   "cell_type": "code",
   "execution_count": 55,
   "metadata": {},
   "outputs": [
    {
     "data": {
      "image/png": "[encoded data removed]",
      "text/plain": [
       "<Figure size 640x480 with 2 Axes>"
      ]
     },
     "metadata": {},
     "output_type": "display_data"
    }
   ],
   "source": [
    "ConfusionMatrixDisplay.from_estimator(log_model,scaled_X_test,y_test,normalize='true');"
   ]
  },
  {
   "cell_type": "code",
   "execution_count": null,
   "metadata": {},
   "outputs": [],
   "source": []
  },
  {
   "cell_type": "code",
   "execution_count": null,
   "metadata": {},
   "outputs": [],
   "source": []
  },
  {
   "cell_type": "code",
   "execution_count": null,
   "metadata": {},
   "outputs": [],
   "source": []
  }
 ],
 "metadata": {
  "kernelspec": {
   "display_name": "Python 3",
   "language": "python",
   "name": "python3"
  },
  "language_info": {
   "codemirror_mode": {
    "name": "ipython",
    "version": 3
   },
   "file_extension": ".py",
   "mimetype": "text/x-python",
   "name": "python",
   "nbconvert_exporter": "python",
   "pygments_lexer": "ipython3",
   "version": "3.10.12"
  }
 },
 "nbformat": 4,
 "nbformat_minor": 2
}
