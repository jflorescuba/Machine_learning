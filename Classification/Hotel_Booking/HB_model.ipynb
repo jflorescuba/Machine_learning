{
 "cells": [
  {
   "cell_type": "markdown",
   "metadata": {},
   "source": [
    "**Projet Pandas** https://www.kaggle.com/datasets/alimhdpr1378/hotel-booking-data"
   ]
  },
  {
   "cell_type": "markdown",
   "metadata": {
    "id": "CKMZoqt2ewZS"
   },
   "source": [
    "# Les données\n",
    "\n",
    "Cet ensemble de données contient des informations sur les réservations d'un hôtel de ville et d'un hôtel resort, et comprend des informations telles que la date de la réservation, la durée du séjour, le nombre d'adultes, d'enfants et/ou de bébés, et le nombre de places de parking disponibles, entre autres.\n",
    "\n",
    "Toutes les informations d'identification personnelle ont été supprimées des données.\n",
    "\n",
    "Remerciements :\n",
    "Les données proviennent initialement de l'article Hotel Booking Demand Datasets, rédigé par Nuno Antonio, Ana Almeida et Luis Nunes pour Data in Brief, volume 22, février 2019.\n",
    "\n",
    "\n",
    "----------------------------\n",
    "\n",
    "**REMARQUE : Les noms, emails, numéros de téléphone et numéros de carte de crédit figurant dans les données sont synthétiques et ne sont pas des informations provenant de personnes réelles. Par contre, les données sur les hôtels sont réelles et proviennent de la publication mentionnée ci-dessus.**"
   ]
  },
  {
   "cell_type": "markdown",
   "metadata": {},
   "source": [
    "**Données : Référence des Colonnes (features) :"
   ]
  },
  {
   "cell_type": "markdown",
   "metadata": {
    "id": "dLkyJd1AewZS"
   },
   "source": [
    "<table><thead><tr class=\"rowsep-1\"><th scope=\"col\"><strong>Variable</strong></th><th scope=\"col\"><strong>Type</strong></th><th scope=\"col\"><strong>Description</strong></th><th scope=\"col\"><strong>Source/Engineering</strong></th></tr></thead><tbody><tr><th scope=\"row\"><em>ADR</em></th><td>Numeric</td><td>Average Daily Rate as defined by <a name=\"bbib5\" href=\"#bib5\" class=\"workspace-trigger\">[5]</a></td><td>BO, BL and TR / Calculated by dividing the sum of all lodging transactions by the total number of staying nights</td></tr><tr><th scope=\"row\"><em>Adults</em></th><td>Integer</td><td>Number of adults</td><td>BO and BL</td></tr><tr><th scope=\"row\"><em>Agent</em></th><td>Categorical</td><td>ID of the travel agency that made the booking<a name=\"btbl1fna\" href=\"#tbl1fna\" class=\"workspace-trigger\"><sup>a</sup></a></td><td>BO and BL</td></tr><tr><th scope=\"row\"><em>arrival_date_day_of_month</em></th><td>Integer</td><td>Day of the month of the arrival date</td><td>BO and BL</td></tr><tr><th scope=\"row\"><em>arrival_date_month</em></th><td>Categorical</td><td>Month of arrival date with 12 categories: “January” to “December”</td><td>BO and BL</td></tr><tr><th scope=\"row\"><em>arrival_date_week_number</em></th><td>Integer</td><td>Week number of the arrival date</td><td>BO and BL</td></tr><tr><th scope=\"row\"><em>arrival_date_year</em></th><td>Integer</td><td>Year of arrival date</td><td>BO and BL</td></tr><tr><th scope=\"row\"><em>assigned_room_type</em></th><td>Categorical</td><td>Code for the type of room assigned to the booking. Sometimes the assigned room type differs from the reserved room type due to hotel operation reasons (e.g. overbooking) or by customer request. Code is presented instead of designation for anonymity reasons</td><td>BO and BL</td></tr><tr><th scope=\"row\"><em>Babies</em></th><td>Integer</td><td>Number of babies</td><td>BO and BL</td></tr><tr><th scope=\"row\"><em>booking_changes</em></th><td>Integer</td><td>Number of changes/amendments made to the booking from the moment the booking was entered on the PMS until the moment of check-in or cancellation</td><td>BO and BL/Calculated by adding the number of unique iterations that change some of the booking attributes, namely: persons, arrival date, nights, reserved room type or meal</td></tr><tr><th scope=\"row\"><em>Children</em></th><td>Integer</td><td>Number of children</td><td>BO and BL/Sum of both payable and non-payable children</td></tr><tr><th scope=\"row\"><em>Company</em></th><td>Categorical</td><td>ID of the company/entity that made the booking or responsible for paying the booking. ID is presented instead of designation for anonymity reasons</td><td>BO and BL.</td></tr><tr><th scope=\"row\"><em>Country</em></th><td>Categorical</td><td>Country of origin. Categories are represented in the ISO 3155–3:2013 format <a name=\"bbib6\" href=\"#bib6\" class=\"workspace-trigger\">[6]</a></td><td>BO, BL and NT</td></tr><tr><th scope=\"row\"><br></th><td><br></td><td><br></td><td><br></td></tr><tr><th scope=\"row\" rowspan=\"5\"><em>customer_type</em></th><td rowspan=\"5\">Categorical</td><td>Type of booking, assuming one of four categories:</td><td rowspan=\"5\">BO and BL</td></tr><tr><td>Contract - when the booking has an allotment or other type of contract associated to it;</td></tr><tr><td>Group – when the booking is associated to a group;</td></tr><tr><td>Transient – when the booking is not part of a group or contract, and is not associated to other transient booking;</td></tr><tr><td>Transient-party – when the booking is transient, but is associated to at least other transient booking</td></tr><tr><th scope=\"row\"><em>days_in_waiting_list</em></th><td>Integer</td><td>Number of days the booking was in the waiting list before it was confirmed to the customer</td><td>BO/Calculated by subtracting the date the booking was confirmed to the customer from the date the booking entered on the PMS</td></tr><tr><th scope=\"row\"><br></th><td><br></td><td><br></td><td><br></td></tr><tr><th scope=\"row\" rowspan=\"7\"><em>deposit_type</em></th><td rowspan=\"7\">Categorical</td><td>Indication on if the customer made a deposit to guarantee the booking. This variable can assume three categories:</td><td rowspan=\"2\">BO and TR/Value calculated based on the payments identified for the booking in the transaction (TR) table before the booking׳s arrival or cancellation date.</td></tr><tr><td rowspan=\"3\">No Deposit – no deposit was made;</td></tr><tr><td>In case no payments were found the value is “No Deposit”.</td></tr><tr><td rowspan=\"2\">If the payment was equal or exceeded the total cost of stay, the value is set as “Non Refund”.</td></tr><tr><td rowspan=\"2\">Non Refund – a deposit was made in the value of the total stay cost;</td></tr><tr><td rowspan=\"2\">Otherwise the value is set as “Refundable”</td></tr><tr><td>Refundable – a deposit was made with a value under the total cost of stay.</td></tr><tr><th scope=\"row\"><em>distribution_channel</em></th><td>Categorical</td><td>Booking distribution channel. The term “TA” means “Travel Agents” and “TO” means “Tour Operators”</td><td>BO, BL and DC</td></tr><tr><th scope=\"row\"><em>is_canceled</em></th><td>Categorical</td><td>Value indicating if the booking was canceled (1) or not (0)</td><td>BO</td></tr><tr><th scope=\"row\"><em>is_repeated_guest</em></th><td>Categorical</td><td>Value indicating if the booking name was from a repeated guest (1) or not (0)</td><td>BO, BL and C/ Variable created by verifying if a profile was associated with the booking customer. If so, and if the customer profile creation date was prior to the creation date for the booking on the PMS database it was assumed the booking was from a repeated guest</td></tr><tr><th scope=\"row\"><em>lead_time</em></th><td>Integer</td><td>Number of days that elapsed between the entering date of the booking into the PMS and the arrival date</td><td>BO and BL/ Subtraction of the entering date from the arrival date</td></tr><tr><th scope=\"row\"><em>market_segment</em></th><td>Categorical</td><td>Market segment designation. In categories, the term “TA” means “Travel Agents” and “TO” means “Tour Operators”</td><td>BO, BL and MS</td></tr><tr><th scope=\"row\"><br></th><td><br></td><td><br></td><td><br></td></tr><tr><th scope=\"row\" rowspan=\"5\"><em>Meal</em></th><td rowspan=\"5\">Categorical</td><td>Type of meal booked. Categories are presented in standard hospitality meal packages:</td><td rowspan=\"5\">BO, BL and ML</td></tr><tr><td>Undefined/SC – no meal package;</td></tr><tr><td>BB – Bed &amp; Breakfast;</td></tr><tr><td>HB – Half board (breakfast and one other meal – usually dinner);</td></tr><tr><td>FB – Full board (breakfast, lunch and dinner)</td></tr><tr><th scope=\"row\"><em>previous_bookings_not_canceled</em></th><td>Integer</td><td>Number of previous bookings not cancelled by the customer prior to the current booking</td><td>BO and BL / In case there was no customer profile associated with the booking, the value is set to 0. Otherwise, the value is the number of bookings with the same customer profile created before the current booking and not canceled.</td></tr><tr><th scope=\"row\"><em>previous_cancellations</em></th><td>Integer</td><td>Number of previous bookings that were cancelled by the customer prior to the current booking</td><td>BO and BL/ In case there was no customer profile associated with the booking, the value is set to 0. Otherwise, the value is the number of bookings with the same customer profile created before the current booking and canceled.</td></tr><tr><th scope=\"row\"><em>required_card_parking_spaces</em></th><td>Integer</td><td>Number of car parking spaces required by the customer</td><td>BO and BL</td></tr><tr><th scope=\"row\"><br></th><td><br></td><td><br></td><td><br></td></tr><tr><th scope=\"row\" rowspan=\"4\"><em>reservation_status</em></th><td rowspan=\"4\">Categorical</td><td>Reservation last status, assuming one of three categories:</td><td rowspan=\"4\">BO</td></tr><tr><td>Canceled – booking was canceled by the customer;</td></tr><tr><td>Check-Out – customer has checked in but already departed;</td></tr><tr><td>No-Show – customer did not check-in and did inform the hotel of the reason why</td></tr><tr><th scope=\"row\"><em>reservation_status_date</em></th><td>Date</td><td>Date at which the last status was set. This variable can be used in conjunction with the <em>reservation_status</em> to understand when was the booking canceled or when did the customer checked-out of the hotel</td><td>BO</td></tr><tr><th scope=\"row\"><em>reserved_room_type</em></th><td>Categorical</td><td>Code of room type reserved. Code is presented instead of designation for anonymity reasons</td><td>BO and BL</td></tr><tr><th scope=\"row\"><em>stays_in_weekend_nights</em></th><td>Integer</td><td>Number of weekend nights (Saturday or Sunday) the guest stayed or booked to stay at the hotel</td><td>BO and BL/ Calculated by counting the number of weekend nights from the total number of nights</td></tr><tr><th scope=\"row\"><em>stays_in_week_nights</em></th><td>Integer</td><td>Number of week nights (Monday to Friday) the guest stayed or booked to stay at the hotel</td><td>BO and BL/Calculated by counting the number of week nights from the total number of nights</td></tr><tr><th scope=\"row\"><em>total_of_special_requests</em></th><td>Integer</td><td>Number of special requests made by the customer (e.g. twin bed or high floor)</td><td>BO and BL/Sum of all special requests</td></tr></tbody></table>"
   ]
  },
  {
   "cell_type": "markdown",
   "metadata": {
    "id": "xwNLrIFWewZV"
   },
   "source": [
    "-----------"
   ]
  },
  {
   "cell_type": "markdown",
   "metadata": {
    "id": "TQTtf6n9ewZW"
   },
   "source": [
    "# Exploration de données\n",
    "\n",
    "**Effectuez les tâches indiquées ci-dessous en gras (voir sommaire pour vue d'ensemble).** \n",
    "\n",
    "**Le résultat attendu est indiqué dans une cellule juste en dessous. Faites attention à ne pas exécuter la cellule au-dessus de la sortie attendue, car cela effacerait celle-ci.**\n",
    "\n",
    "**Faites de votre mieux pour résoudre ces tâches en une seule ligne de code Pandas (toutes les questions ne peuvent pas être résolues en une seule ligne, mais beaucoup peuvent l'être).**\n",
    "\n",
    "**NOTE : De nombreuses tâches ont plusieurs méthodes de solution correctes !**\n",
    "\n",
    "\n",
    "\n",
    "---\n",
    "\n",
    "## **Lecture du fichier \"Hotel_booking.csv\".**"
   ]
  },
  {
   "cell_type": "code",
   "execution_count": 468,
   "metadata": {
    "id": "LX-nA6SjewZW"
   },
   "outputs": [],
   "source": [
    "import pandas as pd"
   ]
  },
  {
   "cell_type": "code",
   "execution_count": 469,
   "metadata": {
    "id": "Z3gvT6d_ewZW"
   },
   "outputs": [],
   "source": [
    "# LECTURE CSV à éxécuter\n",
    "\n",
    "file = 'Hotel_booking.csv'\n",
    "hotels = pd.read_csv(file)\n"
   ]
  },
  {
   "cell_type": "code",
   "execution_count": 470,
   "metadata": {
    "colab": {
     "base_uri": "https://localhost:8080/",
     "height": 405
    },
    "executionInfo": {
     "elapsed": 233,
     "status": "ok",
     "timestamp": 1634471383412,
     "user": {
      "displayName": "Rod Paris",
      "photoUrl": "https://lh3.googleusercontent.com/a-/AOh14GiGOEWvx7aTTHb8HlMTKIHQKYJZQ6mJRliDRMVC5Q=s64",
      "userId": "10535238717210992784"
     },
     "user_tz": -120
    },
    "id": "R_vSQHs9ewZW",
    "outputId": "072c60b5-e820-469d-e965-dc3e5a24bb7d"
   },
   "outputs": [
    {
     "data": {
      "text/html": [
       "<div>\n",
       "<style scoped>\n",
       "    .dataframe tbody tr th:only-of-type {\n",
       "        vertical-align: middle;\n",
       "    }\n",
       "\n",
       "    .dataframe tbody tr th {\n",
       "        vertical-align: top;\n",
       "    }\n",
       "\n",
       "    .dataframe thead th {\n",
       "        text-align: right;\n",
       "    }\n",
       "</style>\n",
       "<table border=\"1\" class=\"dataframe\">\n",
       "  <thead>\n",
       "    <tr style=\"text-align: right;\">\n",
       "      <th></th>\n",
       "      <th>hotel</th>\n",
       "      <th>is_canceled</th>\n",
       "      <th>lead_time</th>\n",
       "      <th>arrival_date_year</th>\n",
       "      <th>arrival_date_month</th>\n",
       "      <th>arrival_date_week_number</th>\n",
       "      <th>arrival_date_day_of_month</th>\n",
       "      <th>stays_in_weekend_nights</th>\n",
       "      <th>stays_in_week_nights</th>\n",
       "      <th>adults</th>\n",
       "      <th>...</th>\n",
       "      <th>customer_type</th>\n",
       "      <th>adr</th>\n",
       "      <th>required_car_parking_spaces</th>\n",
       "      <th>total_of_special_requests</th>\n",
       "      <th>reservation_status</th>\n",
       "      <th>reservation_status_date</th>\n",
       "      <th>name</th>\n",
       "      <th>email</th>\n",
       "      <th>phone-number</th>\n",
       "      <th>credit_card</th>\n",
       "    </tr>\n",
       "  </thead>\n",
       "  <tbody>\n",
       "    <tr>\n",
       "      <th>0</th>\n",
       "      <td>Resort Hotel</td>\n",
       "      <td>0</td>\n",
       "      <td>342</td>\n",
       "      <td>2015</td>\n",
       "      <td>July</td>\n",
       "      <td>27</td>\n",
       "      <td>1</td>\n",
       "      <td>0</td>\n",
       "      <td>0</td>\n",
       "      <td>2</td>\n",
       "      <td>...</td>\n",
       "      <td>Transient</td>\n",
       "      <td>0.0</td>\n",
       "      <td>0</td>\n",
       "      <td>0</td>\n",
       "      <td>Check-Out</td>\n",
       "      <td>2015-07-01</td>\n",
       "      <td>Ernest Barnes</td>\n",
       "      <td>Ernest.Barnes31@outlook.com</td>\n",
       "      <td>669-792-1661</td>\n",
       "      <td>************4322</td>\n",
       "    </tr>\n",
       "    <tr>\n",
       "      <th>1</th>\n",
       "      <td>Resort Hotel</td>\n",
       "      <td>0</td>\n",
       "      <td>737</td>\n",
       "      <td>2015</td>\n",
       "      <td>July</td>\n",
       "      <td>27</td>\n",
       "      <td>1</td>\n",
       "      <td>0</td>\n",
       "      <td>0</td>\n",
       "      <td>2</td>\n",
       "      <td>...</td>\n",
       "      <td>Transient</td>\n",
       "      <td>0.0</td>\n",
       "      <td>0</td>\n",
       "      <td>0</td>\n",
       "      <td>Check-Out</td>\n",
       "      <td>2015-07-01</td>\n",
       "      <td>Andrea Baker</td>\n",
       "      <td>Andrea_Baker94@aol.com</td>\n",
       "      <td>858-637-6955</td>\n",
       "      <td>************9157</td>\n",
       "    </tr>\n",
       "    <tr>\n",
       "      <th>2</th>\n",
       "      <td>Resort Hotel</td>\n",
       "      <td>0</td>\n",
       "      <td>7</td>\n",
       "      <td>2015</td>\n",
       "      <td>July</td>\n",
       "      <td>27</td>\n",
       "      <td>1</td>\n",
       "      <td>0</td>\n",
       "      <td>1</td>\n",
       "      <td>1</td>\n",
       "      <td>...</td>\n",
       "      <td>Transient</td>\n",
       "      <td>75.0</td>\n",
       "      <td>0</td>\n",
       "      <td>0</td>\n",
       "      <td>Check-Out</td>\n",
       "      <td>2015-07-02</td>\n",
       "      <td>Rebecca Parker</td>\n",
       "      <td>Rebecca_Parker@comcast.net</td>\n",
       "      <td>652-885-2745</td>\n",
       "      <td>************3734</td>\n",
       "    </tr>\n",
       "    <tr>\n",
       "      <th>3</th>\n",
       "      <td>Resort Hotel</td>\n",
       "      <td>0</td>\n",
       "      <td>13</td>\n",
       "      <td>2015</td>\n",
       "      <td>July</td>\n",
       "      <td>27</td>\n",
       "      <td>1</td>\n",
       "      <td>0</td>\n",
       "      <td>1</td>\n",
       "      <td>1</td>\n",
       "      <td>...</td>\n",
       "      <td>Transient</td>\n",
       "      <td>75.0</td>\n",
       "      <td>0</td>\n",
       "      <td>0</td>\n",
       "      <td>Check-Out</td>\n",
       "      <td>2015-07-02</td>\n",
       "      <td>Laura Murray</td>\n",
       "      <td>Laura_M@gmail.com</td>\n",
       "      <td>364-656-8427</td>\n",
       "      <td>************5677</td>\n",
       "    </tr>\n",
       "    <tr>\n",
       "      <th>4</th>\n",
       "      <td>Resort Hotel</td>\n",
       "      <td>0</td>\n",
       "      <td>14</td>\n",
       "      <td>2015</td>\n",
       "      <td>July</td>\n",
       "      <td>27</td>\n",
       "      <td>1</td>\n",
       "      <td>0</td>\n",
       "      <td>2</td>\n",
       "      <td>2</td>\n",
       "      <td>...</td>\n",
       "      <td>Transient</td>\n",
       "      <td>98.0</td>\n",
       "      <td>0</td>\n",
       "      <td>1</td>\n",
       "      <td>Check-Out</td>\n",
       "      <td>2015-07-03</td>\n",
       "      <td>Linda Hines</td>\n",
       "      <td>LHines@verizon.com</td>\n",
       "      <td>713-226-5883</td>\n",
       "      <td>************5498</td>\n",
       "    </tr>\n",
       "  </tbody>\n",
       "</table>\n",
       "<p>5 rows × 36 columns</p>\n",
       "</div>"
      ],
      "text/plain": [
       "          hotel  is_canceled  lead_time  arrival_date_year arrival_date_month  \\\n",
       "0  Resort Hotel            0        342               2015               July   \n",
       "1  Resort Hotel            0        737               2015               July   \n",
       "2  Resort Hotel            0          7               2015               July   \n",
       "3  Resort Hotel            0         13               2015               July   \n",
       "4  Resort Hotel            0         14               2015               July   \n",
       "\n",
       "   arrival_date_week_number  arrival_date_day_of_month  \\\n",
       "0                        27                          1   \n",
       "1                        27                          1   \n",
       "2                        27                          1   \n",
       "3                        27                          1   \n",
       "4                        27                          1   \n",
       "\n",
       "   stays_in_weekend_nights  stays_in_week_nights  adults  ...  customer_type  \\\n",
       "0                        0                     0       2  ...      Transient   \n",
       "1                        0                     0       2  ...      Transient   \n",
       "2                        0                     1       1  ...      Transient   \n",
       "3                        0                     1       1  ...      Transient   \n",
       "4                        0                     2       2  ...      Transient   \n",
       "\n",
       "    adr required_car_parking_spaces total_of_special_requests  \\\n",
       "0   0.0                           0                         0   \n",
       "1   0.0                           0                         0   \n",
       "2  75.0                           0                         0   \n",
       "3  75.0                           0                         0   \n",
       "4  98.0                           0                         1   \n",
       "\n",
       "  reservation_status reservation_status_date            name  \\\n",
       "0          Check-Out              2015-07-01   Ernest Barnes   \n",
       "1          Check-Out              2015-07-01    Andrea Baker   \n",
       "2          Check-Out              2015-07-02  Rebecca Parker   \n",
       "3          Check-Out              2015-07-02    Laura Murray   \n",
       "4          Check-Out              2015-07-03     Linda Hines   \n",
       "\n",
       "                         email  phone-number       credit_card  \n",
       "0  Ernest.Barnes31@outlook.com  669-792-1661  ************4322  \n",
       "1       Andrea_Baker94@aol.com  858-637-6955  ************9157  \n",
       "2   Rebecca_Parker@comcast.net  652-885-2745  ************3734  \n",
       "3            Laura_M@gmail.com  364-656-8427  ************5677  \n",
       "4           LHines@verizon.com  713-226-5883  ************5498  \n",
       "\n",
       "[5 rows x 36 columns]"
      ]
     },
     "execution_count": 470,
     "metadata": {},
     "output_type": "execute_result"
    }
   ],
   "source": [
    "hotels.head()"
   ]
  },
  {
   "cell_type": "code",
   "execution_count": 471,
   "metadata": {
    "colab": {
     "base_uri": "https://localhost:8080/"
    },
    "executionInfo": {
     "elapsed": 381,
     "status": "ok",
     "timestamp": 1634471387820,
     "user": {
      "displayName": "Rod Paris",
      "photoUrl": "https://lh3.googleusercontent.com/a-/AOh14GiGOEWvx7aTTHb8HlMTKIHQKYJZQ6mJRliDRMVC5Q=s64",
      "userId": "10535238717210992784"
     },
     "user_tz": -120
    },
    "id": "6QS8krjmewZX",
    "outputId": "e549bbef-4ba2-40f5-9b3e-82fc903b2d8d"
   },
   "outputs": [
    {
     "name": "stdout",
     "output_type": "stream",
     "text": [
      "<class 'pandas.core.frame.DataFrame'>\n",
      "RangeIndex: 119390 entries, 0 to 119389\n",
      "Data columns (total 36 columns):\n",
      " #   Column                          Non-Null Count   Dtype  \n",
      "---  ------                          --------------   -----  \n",
      " 0   hotel                           119390 non-null  object \n",
      " 1   is_canceled                     119390 non-null  int64  \n",
      " 2   lead_time                       119390 non-null  int64  \n",
      " 3   arrival_date_year               119390 non-null  int64  \n",
      " 4   arrival_date_month              119390 non-null  object \n",
      " 5   arrival_date_week_number        119390 non-null  int64  \n",
      " 6   arrival_date_day_of_month       119390 non-null  int64  \n",
      " 7   stays_in_weekend_nights         119390 non-null  int64  \n",
      " 8   stays_in_week_nights            119390 non-null  int64  \n",
      " 9   adults                          119390 non-null  int64  \n",
      " 10  children                        119386 non-null  float64\n",
      " 11  babies                          119390 non-null  int64  \n",
      " 12  meal                            119390 non-null  object \n",
      " 13  country                         118902 non-null  object \n",
      " 14  market_segment                  119390 non-null  object \n",
      " 15  distribution_channel            119390 non-null  object \n",
      " 16  is_repeated_guest               119390 non-null  int64  \n",
      " 17  previous_cancellations          119390 non-null  int64  \n",
      " 18  previous_bookings_not_canceled  119390 non-null  int64  \n",
      " 19  reserved_room_type              119390 non-null  object \n",
      " 20  assigned_room_type              119390 non-null  object \n",
      " 21  booking_changes                 119390 non-null  int64  \n",
      " 22  deposit_type                    119390 non-null  object \n",
      " 23  agent                           103050 non-null  float64\n",
      " 24  company                         6797 non-null    float64\n",
      " 25  days_in_waiting_list            119390 non-null  int64  \n",
      " 26  customer_type                   119390 non-null  object \n",
      " 27  adr                             119390 non-null  float64\n",
      " 28  required_car_parking_spaces     119390 non-null  int64  \n",
      " 29  total_of_special_requests       119390 non-null  int64  \n",
      " 30  reservation_status              119390 non-null  object \n",
      " 31  reservation_status_date         119390 non-null  object \n",
      " 32  name                            119390 non-null  object \n",
      " 33  email                           119390 non-null  object \n",
      " 34  phone-number                    119390 non-null  object \n",
      " 35  credit_card                     119390 non-null  object \n",
      "dtypes: float64(4), int64(16), object(16)\n",
      "memory usage: 32.8+ MB\n"
     ]
    }
   ],
   "source": [
    "hotels.info()"
   ]
  },
  {
   "cell_type": "markdown",
   "metadata": {
    "id": "ThhlTxEBewZX"
   },
   "source": [
    "---\n",
    "## **Combien y-a-t-il de lignes ?**"
   ]
  },
  {
   "cell_type": "code",
   "execution_count": 472,
   "metadata": {
    "collapsed": true,
    "id": "fNcgcvlCewZX"
   },
   "outputs": [
    {
     "data": {
      "text/plain": [
       "119390"
      ]
     },
     "execution_count": 472,
     "metadata": {},
     "output_type": "execute_result"
    }
   ],
   "source": [
    "len(hotels)\n",
    "# Il y a 119390 lignes "
   ]
  },
  {
   "cell_type": "markdown",
   "metadata": {
    "id": "vBr9iGnrewZY"
   },
   "source": [
    "## **Y a-t-il des données manquantes ? Si oui, quelle colonne a le plus de données manquantes ?**"
   ]
  },
  {
   "cell_type": "code",
   "execution_count": 473,
   "metadata": {
    "collapsed": true,
    "id": "3rj3GQKgewZY"
   },
   "outputs": [
    {
     "data": {
      "text/plain": [
       "hotel                                  0\n",
       "is_canceled                            0\n",
       "lead_time                              0\n",
       "arrival_date_year                      0\n",
       "arrival_date_month                     0\n",
       "arrival_date_week_number               0\n",
       "arrival_date_day_of_month              0\n",
       "stays_in_weekend_nights                0\n",
       "stays_in_week_nights                   0\n",
       "adults                                 0\n",
       "children                               4\n",
       "babies                                 0\n",
       "meal                                   0\n",
       "country                              488\n",
       "market_segment                         0\n",
       "distribution_channel                   0\n",
       "is_repeated_guest                      0\n",
       "previous_cancellations                 0\n",
       "previous_bookings_not_canceled         0\n",
       "reserved_room_type                     0\n",
       "assigned_room_type                     0\n",
       "booking_changes                        0\n",
       "deposit_type                           0\n",
       "agent                              16340\n",
       "company                           112593\n",
       "days_in_waiting_list                   0\n",
       "customer_type                          0\n",
       "adr                                    0\n",
       "required_car_parking_spaces            0\n",
       "total_of_special_requests              0\n",
       "reservation_status                     0\n",
       "reservation_status_date                0\n",
       "name                                   0\n",
       "email                                  0\n",
       "phone-number                           0\n",
       "credit_card                            0\n",
       "dtype: int64"
      ]
     },
     "execution_count": 473,
     "metadata": {},
     "output_type": "execute_result"
    }
   ],
   "source": [
    "hotels.isnull().sum()\n",
    "#hotels.notnull().sum()\n",
    "\n",
    "# Oui, il y a des données manquantes, la colonne company a le plus de données manquantes : 112593 points de données manquants.\n"
   ]
  },
  {
   "cell_type": "markdown",
   "metadata": {
    "id": "aEDC_BmKewZY"
   },
   "source": [
    "## **Supprimer la colonne \"company\" de l'ensemble de données**"
   ]
  },
  {
   "cell_type": "code",
   "execution_count": 474,
   "metadata": {
    "collapsed": true,
    "id": "nTtLyfWgewZY"
   },
   "outputs": [],
   "source": [
    "hotels = hotels.drop('company',axis=1)"
   ]
  },
  {
   "cell_type": "code",
   "execution_count": 475,
   "metadata": {},
   "outputs": [
    {
     "name": "stdout",
     "output_type": "stream",
     "text": [
      "<class 'pandas.core.frame.DataFrame'>\n",
      "RangeIndex: 119390 entries, 0 to 119389\n",
      "Data columns (total 35 columns):\n",
      " #   Column                          Non-Null Count   Dtype  \n",
      "---  ------                          --------------   -----  \n",
      " 0   hotel                           119390 non-null  object \n",
      " 1   is_canceled                     119390 non-null  int64  \n",
      " 2   lead_time                       119390 non-null  int64  \n",
      " 3   arrival_date_year               119390 non-null  int64  \n",
      " 4   arrival_date_month              119390 non-null  object \n",
      " 5   arrival_date_week_number        119390 non-null  int64  \n",
      " 6   arrival_date_day_of_month       119390 non-null  int64  \n",
      " 7   stays_in_weekend_nights         119390 non-null  int64  \n",
      " 8   stays_in_week_nights            119390 non-null  int64  \n",
      " 9   adults                          119390 non-null  int64  \n",
      " 10  children                        119386 non-null  float64\n",
      " 11  babies                          119390 non-null  int64  \n",
      " 12  meal                            119390 non-null  object \n",
      " 13  country                         118902 non-null  object \n",
      " 14  market_segment                  119390 non-null  object \n",
      " 15  distribution_channel            119390 non-null  object \n",
      " 16  is_repeated_guest               119390 non-null  int64  \n",
      " 17  previous_cancellations          119390 non-null  int64  \n",
      " 18  previous_bookings_not_canceled  119390 non-null  int64  \n",
      " 19  reserved_room_type              119390 non-null  object \n",
      " 20  assigned_room_type              119390 non-null  object \n",
      " 21  booking_changes                 119390 non-null  int64  \n",
      " 22  deposit_type                    119390 non-null  object \n",
      " 23  agent                           103050 non-null  float64\n",
      " 24  days_in_waiting_list            119390 non-null  int64  \n",
      " 25  customer_type                   119390 non-null  object \n",
      " 26  adr                             119390 non-null  float64\n",
      " 27  required_car_parking_spaces     119390 non-null  int64  \n",
      " 28  total_of_special_requests       119390 non-null  int64  \n",
      " 29  reservation_status              119390 non-null  object \n",
      " 30  reservation_status_date         119390 non-null  object \n",
      " 31  name                            119390 non-null  object \n",
      " 32  email                           119390 non-null  object \n",
      " 33  phone-number                    119390 non-null  object \n",
      " 34  credit_card                     119390 non-null  object \n",
      "dtypes: float64(3), int64(16), object(16)\n",
      "memory usage: 31.9+ MB\n"
     ]
    }
   ],
   "source": [
    "hotels.info()"
   ]
  },
  {
   "cell_type": "markdown",
   "metadata": {
    "id": "ijz9F0uxewZZ"
   },
   "source": [
    "## **Quels sont les 5 codes pays les plus fréquents dans l'ensemble de données ?**"
   ]
  },
  {
   "cell_type": "code",
   "execution_count": 476,
   "metadata": {
    "collapsed": true,
    "id": "Ndwq3lanewZZ"
   },
   "outputs": [
    {
     "data": {
      "text/plain": [
       "country\n",
       "PRT    48590\n",
       "GBR    12129\n",
       "FRA    10415\n",
       "ESP     8568\n",
       "DEU     7287\n",
       "Name: count, dtype: int64"
      ]
     },
     "execution_count": 476,
     "metadata": {},
     "output_type": "execute_result"
    }
   ],
   "source": [
    "hotels['country'].value_counts().nlargest(5)"
   ]
  },
  {
   "cell_type": "markdown",
   "metadata": {
    "id": "KJhvslTnewZZ"
   },
   "source": [
    "## **Quel est le nom de la personne qui a payé le tarif journalier moyen le plus élevé ? Quel était ce montant ?**\n",
    "**taux/tarif journalier moyen = adr (Average Daily Rate)**"
   ]
  },
  {
   "cell_type": "code",
   "execution_count": 477,
   "metadata": {
    "collapsed": true,
    "id": "H-sKfAjTewZZ"
   },
   "outputs": [
    {
     "name": "stdout",
     "output_type": "stream",
     "text": [
      "adr plus elevé = 5400.0\n",
      "personne qui a payé ce tarif : Daniel Walter\n"
     ]
    }
   ],
   "source": [
    "adr_max = hotels['adr'].max()\n",
    "print(f'adr plus elevé = {adr_max}')\n",
    "ind_adr = hotels['adr'].idxmax()\n",
    "name_max = hotels.loc[ind_adr, 'name']\n",
    "print(f'personne qui a payé ce tarif : {name_max}')\n",
    "#\n",
    "#hotels.loc[hotels['name'] == name_max]  #pour afficher tout la ligne correspondant à cette personne"
   ]
  },
  {
   "cell_type": "markdown",
   "metadata": {
    "id": "rs6X5p_uewZZ"
   },
   "source": [
    "####**L'adr est le tarif journalier moyen pour le séjour d'une personne à l'hôtel. Quelle est la moyenne de l'adr pour tous les séjours à l'hôtel de l'ensemble de données ?**"
   ]
  },
  {
   "cell_type": "code",
   "execution_count": 478,
   "metadata": {
    "collapsed": true,
    "id": "UX6NPIlTewZZ"
   },
   "outputs": [
    {
     "data": {
      "text/plain": [
       "101.83"
      ]
     },
     "execution_count": 478,
     "metadata": {},
     "output_type": "execute_result"
    }
   ],
   "source": [
    "hotels['adr'].mean().round(2)"
   ]
  },
  {
   "cell_type": "markdown",
   "metadata": {
    "id": "H6RZiqFKewZZ"
   },
   "source": [
    "## **Quel est le nombre moyen de nuits pour un séjour dans l'ensemble de données ?**\n",
    "**N'hésitez pas à arrondir à 2 décimales.**"
   ]
  },
  {
   "cell_type": "code",
   "execution_count": 479,
   "metadata": {
    "collapsed": true,
    "id": "2OTl3dNpewZZ"
   },
   "outputs": [
    {
     "data": {
      "text/plain": [
       "stays_nights    3.43\n",
       "dtype: float64"
      ]
     },
     "execution_count": 479,
     "metadata": {},
     "output_type": "execute_result"
    }
   ],
   "source": [
    "nuits_mean_serie = hotels['stays_in_week_nights'] + hotels['stays_in_weekend_nights']\n",
    "nuits_mean = pd.DataFrame(nuits_mean_serie, columns=['stays_nights'])\n",
    "nuits_mean.mean().round(2)\n"
   ]
  },
  {
   "cell_type": "code",
   "execution_count": 480,
   "metadata": {},
   "outputs": [],
   "source": [
    "import matplotlib.pyplot as plt\n",
    "#nuits_stay = pd.DataFrame(nuits_mean,columns=['stays_nights'])\n",
    "#nuits_stay['idx']= [x for x in range(0,len(nuits_stay))]\n",
    "#len(nuits_stay)\n",
    "#nuits_stay.head()\n",
    "#plt.scatter(nuits_stay['idx'],nuits_stay['stays_nights'])"
   ]
  },
  {
   "cell_type": "markdown",
   "metadata": {
    "id": "U6Q6FCcrewZa"
   },
   "source": [
    "## **Quel est le coût total moyen d'un séjour dans l'ensemble de données ?**\n",
    "**Pas le *coût moyen journalier*, mais le *coût total* du séjour.  N'hésitez pas à arrondir à 2 décimales.**"
   ]
  },
  {
   "cell_type": "code",
   "execution_count": 481,
   "metadata": {
    "collapsed": true,
    "id": "GI7-9xkAewZa"
   },
   "outputs": [
    {
     "data": {
      "text/plain": [
       "357.85"
      ]
     },
     "execution_count": 481,
     "metadata": {},
     "output_type": "execute_result"
    }
   ],
   "source": [
    "CTSejour = hotels['adr']*nuits_mean['stays_nights']\n",
    "CTSejour.mean().round(2)"
   ]
  },
  {
   "cell_type": "markdown",
   "metadata": {
    "id": "lUeA292aewZa"
   },
   "source": [
    "## **Quels sont les noms et les emails des personnes qui ont fait 5 \"demandes/requêtes spéciales\" ?**\n",
    "**(Basez-vous sur la colonne total_of_special_requests)**"
   ]
  },
  {
   "cell_type": "code",
   "execution_count": 482,
   "metadata": {
    "collapsed": true,
    "id": "rD2qASR5ewZa"
   },
   "outputs": [
    {
     "data": {
      "image/png": "[encoded data removed]",
      "text/plain": [
       "<Figure size 400x400 with 1 Axes>"
      ]
     },
     "metadata": {},
     "output_type": "display_data"
    }
   ],
   "source": [
    "Spe_req = hotels['total_of_special_requests'].value_counts()\n",
    "plt.figure(figsize=(4,4))\n",
    "plt.bar(Spe_req.index, Spe_req.values)\n",
    "plt.ylabel('Fréquence')\n",
    "plt.xlabel('Nombre de demandes/requetes spéciales');"
   ]
  },
  {
   "cell_type": "code",
   "execution_count": 483,
   "metadata": {},
   "outputs": [
    {
     "data": {
      "text/html": [
       "<div>\n",
       "<style scoped>\n",
       "    .dataframe tbody tr th:only-of-type {\n",
       "        vertical-align: middle;\n",
       "    }\n",
       "\n",
       "    .dataframe tbody tr th {\n",
       "        vertical-align: top;\n",
       "    }\n",
       "\n",
       "    .dataframe thead th {\n",
       "        text-align: right;\n",
       "    }\n",
       "</style>\n",
       "<table border=\"1\" class=\"dataframe\">\n",
       "  <thead>\n",
       "    <tr style=\"text-align: right;\">\n",
       "      <th></th>\n",
       "      <th>name</th>\n",
       "      <th>email</th>\n",
       "    </tr>\n",
       "  </thead>\n",
       "  <tbody>\n",
       "    <tr>\n",
       "      <th>7860</th>\n",
       "      <td>Amanda Harper</td>\n",
       "      <td>Amanda.H66@yahoo.com</td>\n",
       "    </tr>\n",
       "    <tr>\n",
       "      <th>11125</th>\n",
       "      <td>Laura Sanders</td>\n",
       "      <td>Sanders_Laura@hotmail.com</td>\n",
       "    </tr>\n",
       "    <tr>\n",
       "      <th>14596</th>\n",
       "      <td>Tommy Ortiz</td>\n",
       "      <td>Tommy_O@hotmail.com</td>\n",
       "    </tr>\n",
       "    <tr>\n",
       "      <th>14921</th>\n",
       "      <td>Gilbert Miller</td>\n",
       "      <td>Miller.Gilbert@aol.com</td>\n",
       "    </tr>\n",
       "    <tr>\n",
       "      <th>14922</th>\n",
       "      <td>Timothy Torres</td>\n",
       "      <td>TTorres@protonmail.com</td>\n",
       "    </tr>\n",
       "    <tr>\n",
       "      <th>24630</th>\n",
       "      <td>Jennifer Weaver</td>\n",
       "      <td>Jennifer_W@aol.com</td>\n",
       "    </tr>\n",
       "    <tr>\n",
       "      <th>27288</th>\n",
       "      <td>Crystal Horton</td>\n",
       "      <td>Crystal.H@mail.com</td>\n",
       "    </tr>\n",
       "    <tr>\n",
       "      <th>27477</th>\n",
       "      <td>Brittney Burke</td>\n",
       "      <td>Burke_Brittney16@att.com</td>\n",
       "    </tr>\n",
       "    <tr>\n",
       "      <th>29906</th>\n",
       "      <td>Cynthia Cabrera</td>\n",
       "      <td>Cabrera.Cynthia@xfinity.com</td>\n",
       "    </tr>\n",
       "    <tr>\n",
       "      <th>29949</th>\n",
       "      <td>Sarah Floyd</td>\n",
       "      <td>Sarah_F@gmail.com</td>\n",
       "    </tr>\n",
       "    <tr>\n",
       "      <th>32267</th>\n",
       "      <td>Michelle Villa</td>\n",
       "      <td>Michelle.Villa@aol.com</td>\n",
       "    </tr>\n",
       "    <tr>\n",
       "      <th>39027</th>\n",
       "      <td>Nichole Hebert</td>\n",
       "      <td>Hebert.Nichole@gmail.com</td>\n",
       "    </tr>\n",
       "    <tr>\n",
       "      <th>39129</th>\n",
       "      <td>Lindsey Mckenzie</td>\n",
       "      <td>Lindsey.Mckenzie@att.com</td>\n",
       "    </tr>\n",
       "    <tr>\n",
       "      <th>39525</th>\n",
       "      <td>Ashley Edwards</td>\n",
       "      <td>Edwards.Ashley@yahoo.com</td>\n",
       "    </tr>\n",
       "    <tr>\n",
       "      <th>70114</th>\n",
       "      <td>Christopher Torres</td>\n",
       "      <td>Torres.Christopher@gmail.com</td>\n",
       "    </tr>\n",
       "    <tr>\n",
       "      <th>78819</th>\n",
       "      <td>Mrs. Tara Sullivan DVM</td>\n",
       "      <td>Mrs..DVM@xfinity.com</td>\n",
       "    </tr>\n",
       "    <tr>\n",
       "      <th>78820</th>\n",
       "      <td>Michaela Brown</td>\n",
       "      <td>MichaelaBrown@att.com</td>\n",
       "    </tr>\n",
       "    <tr>\n",
       "      <th>78822</th>\n",
       "      <td>Kurt Maldonado MD</td>\n",
       "      <td>KMD15@xfinity.com</td>\n",
       "    </tr>\n",
       "    <tr>\n",
       "      <th>97072</th>\n",
       "      <td>Jason Richardson</td>\n",
       "      <td>Jason.R@zoho.com</td>\n",
       "    </tr>\n",
       "    <tr>\n",
       "      <th>97099</th>\n",
       "      <td>Terri Hurley</td>\n",
       "      <td>THurley@xfinity.com</td>\n",
       "    </tr>\n",
       "    <tr>\n",
       "      <th>97261</th>\n",
       "      <td>Mrs. Caitlin Webb</td>\n",
       "      <td>Mrs._W@comcast.net</td>\n",
       "    </tr>\n",
       "    <tr>\n",
       "      <th>98410</th>\n",
       "      <td>Holly Arroyo</td>\n",
       "      <td>Arroyo_Holly@mail.com</td>\n",
       "    </tr>\n",
       "    <tr>\n",
       "      <th>98674</th>\n",
       "      <td>Denise Campbell</td>\n",
       "      <td>Denise_C@gmail.com</td>\n",
       "    </tr>\n",
       "    <tr>\n",
       "      <th>99887</th>\n",
       "      <td>Michael Smith</td>\n",
       "      <td>Michael.S42@aol.com</td>\n",
       "    </tr>\n",
       "    <tr>\n",
       "      <th>99888</th>\n",
       "      <td>Dr. Trevor Sellers</td>\n",
       "      <td>Dr._S@aol.com</td>\n",
       "    </tr>\n",
       "    <tr>\n",
       "      <th>101569</th>\n",
       "      <td>Kayla Murphy</td>\n",
       "      <td>Kayla.Murphy@yahoo.com</td>\n",
       "    </tr>\n",
       "    <tr>\n",
       "      <th>102061</th>\n",
       "      <td>Taylor Martinez</td>\n",
       "      <td>Taylor.Martinez@hotmail.com</td>\n",
       "    </tr>\n",
       "    <tr>\n",
       "      <th>109511</th>\n",
       "      <td>Charles Wilson</td>\n",
       "      <td>Charles_Wilson@yahoo.com</td>\n",
       "    </tr>\n",
       "    <tr>\n",
       "      <th>109590</th>\n",
       "      <td>Tyler Allison</td>\n",
       "      <td>Tyler.A@protonmail.com</td>\n",
       "    </tr>\n",
       "    <tr>\n",
       "      <th>110082</th>\n",
       "      <td>Matthew Bailey</td>\n",
       "      <td>Matthew_Bailey@aol.com</td>\n",
       "    </tr>\n",
       "    <tr>\n",
       "      <th>110083</th>\n",
       "      <td>Charlotte Acevedo</td>\n",
       "      <td>Charlotte_A@verizon.com</td>\n",
       "    </tr>\n",
       "    <tr>\n",
       "      <th>111909</th>\n",
       "      <td>Darrell Brennan</td>\n",
       "      <td>Brennan_Darrell51@hotmail.com</td>\n",
       "    </tr>\n",
       "    <tr>\n",
       "      <th>111911</th>\n",
       "      <td>Melinda Jensen</td>\n",
       "      <td>MelindaJensen@zoho.com</td>\n",
       "    </tr>\n",
       "    <tr>\n",
       "      <th>113915</th>\n",
       "      <td>Terry Arnold</td>\n",
       "      <td>Arnold.Terry@zoho.com</td>\n",
       "    </tr>\n",
       "    <tr>\n",
       "      <th>114770</th>\n",
       "      <td>Mary Nguyen</td>\n",
       "      <td>Nguyen.Mary@protonmail.com</td>\n",
       "    </tr>\n",
       "    <tr>\n",
       "      <th>114909</th>\n",
       "      <td>Lindsay Cuevas</td>\n",
       "      <td>Lindsay.Cuevas40@mail.com</td>\n",
       "    </tr>\n",
       "    <tr>\n",
       "      <th>116455</th>\n",
       "      <td>Cynthia Hernandez</td>\n",
       "      <td>CynthiaHernandez@xfinity.com</td>\n",
       "    </tr>\n",
       "    <tr>\n",
       "      <th>116457</th>\n",
       "      <td>Angela Hawkins</td>\n",
       "      <td>Angela_H@gmail.com</td>\n",
       "    </tr>\n",
       "    <tr>\n",
       "      <th>118817</th>\n",
       "      <td>Sue Lawson</td>\n",
       "      <td>Sue.L52@comcast.net</td>\n",
       "    </tr>\n",
       "    <tr>\n",
       "      <th>119161</th>\n",
       "      <td>Alyssa Richards</td>\n",
       "      <td>Alyssa_Richards@aol.com</td>\n",
       "    </tr>\n",
       "  </tbody>\n",
       "</table>\n",
       "</div>"
      ],
      "text/plain": [
       "                          name                          email\n",
       "7860             Amanda Harper           Amanda.H66@yahoo.com\n",
       "11125            Laura Sanders      Sanders_Laura@hotmail.com\n",
       "14596              Tommy Ortiz            Tommy_O@hotmail.com\n",
       "14921           Gilbert Miller         Miller.Gilbert@aol.com\n",
       "14922           Timothy Torres         TTorres@protonmail.com\n",
       "24630          Jennifer Weaver             Jennifer_W@aol.com\n",
       "27288           Crystal Horton             Crystal.H@mail.com\n",
       "27477           Brittney Burke       Burke_Brittney16@att.com\n",
       "29906          Cynthia Cabrera    Cabrera.Cynthia@xfinity.com\n",
       "29949              Sarah Floyd              Sarah_F@gmail.com\n",
       "32267           Michelle Villa         Michelle.Villa@aol.com\n",
       "39027           Nichole Hebert       Hebert.Nichole@gmail.com\n",
       "39129         Lindsey Mckenzie       Lindsey.Mckenzie@att.com\n",
       "39525           Ashley Edwards       Edwards.Ashley@yahoo.com\n",
       "70114       Christopher Torres   Torres.Christopher@gmail.com\n",
       "78819   Mrs. Tara Sullivan DVM           Mrs..DVM@xfinity.com\n",
       "78820           Michaela Brown          MichaelaBrown@att.com\n",
       "78822        Kurt Maldonado MD              KMD15@xfinity.com\n",
       "97072         Jason Richardson               Jason.R@zoho.com\n",
       "97099             Terri Hurley            THurley@xfinity.com\n",
       "97261        Mrs. Caitlin Webb             Mrs._W@comcast.net\n",
       "98410             Holly Arroyo          Arroyo_Holly@mail.com\n",
       "98674          Denise Campbell             Denise_C@gmail.com\n",
       "99887            Michael Smith            Michael.S42@aol.com\n",
       "99888       Dr. Trevor Sellers                  Dr._S@aol.com\n",
       "101569            Kayla Murphy         Kayla.Murphy@yahoo.com\n",
       "102061         Taylor Martinez    Taylor.Martinez@hotmail.com\n",
       "109511          Charles Wilson       Charles_Wilson@yahoo.com\n",
       "109590           Tyler Allison         Tyler.A@protonmail.com\n",
       "110082          Matthew Bailey         Matthew_Bailey@aol.com\n",
       "110083       Charlotte Acevedo        Charlotte_A@verizon.com\n",
       "111909         Darrell Brennan  Brennan_Darrell51@hotmail.com\n",
       "111911          Melinda Jensen         MelindaJensen@zoho.com\n",
       "113915            Terry Arnold          Arnold.Terry@zoho.com\n",
       "114770             Mary Nguyen     Nguyen.Mary@protonmail.com\n",
       "114909          Lindsay Cuevas      Lindsay.Cuevas40@mail.com\n",
       "116455       Cynthia Hernandez   CynthiaHernandez@xfinity.com\n",
       "116457          Angela Hawkins             Angela_H@gmail.com\n",
       "118817              Sue Lawson            Sue.L52@comcast.net\n",
       "119161         Alyssa Richards        Alyssa_Richards@aol.com"
      ]
     },
     "execution_count": 483,
     "metadata": {},
     "output_type": "execute_result"
    }
   ],
   "source": [
    "ind_cinq = hotels.loc[hotels['total_of_special_requests'] == 5].index\n",
    "Colonnes = ['name','email']\n",
    "Nombre_col = [hotels.columns.get_loc(col) for col in Colonnes]\n",
    "hotels.iloc[ind_cinq,Nombre_col]"
   ]
  },
  {
   "cell_type": "markdown",
   "metadata": {
    "id": "g_ch4g38ewZa"
   },
   "source": [
    "## **Quel est le pourcentage de séjours à l'hôtel classés comme \"clients réguliers / repeat guests\" ?**\n",
    "**(Ne vous basez pas sur le nom de la personne, mais plutôt sur la colonne is_repeated_guest)**."
   ]
  },
  {
   "cell_type": "code",
   "execution_count": 484,
   "metadata": {
    "collapsed": true,
    "id": "tHGy5Re-ewZb"
   },
   "outputs": [
    {
     "name": "stdout",
     "output_type": "stream",
     "text": [
      "Il y a 3810 clients réguliers sur un total de 119390 clients\n",
      "Le pourcentage de clients réguliers est de 3.19%\n"
     ]
    }
   ],
   "source": [
    "clients_reg = hotels['is_repeated_guest'].value_counts().get(1,0)\n",
    "print(f'Il y a {clients_reg} clients réguliers sur un total de {len(hotels)} clients')\n",
    "clients_reg_porc = clients_reg/len(hotels)*100\n",
    "print (f'Le pourcentage de clients réguliers est de {clients_reg_porc.round(2)}%')"
   ]
  },
  {
   "cell_type": "markdown",
   "metadata": {
    "id": "3XzNdln5ewZb"
   },
   "source": [
    "## **Quels sont les 5 noms de famille les plus courants dans l'ensemble de données ?**"
   ]
  },
  {
   "cell_type": "code",
   "execution_count": 485,
   "metadata": {
    "collapsed": true,
    "id": "qXEpKuxlewZb"
   },
   "outputs": [
    {
     "data": {
      "text/plain": [
       "name\n",
       "Smith       2503\n",
       "Johnson     1990\n",
       "Williams    1618\n",
       "Jones       1434\n",
       "Brown       1423\n",
       "Name: count, dtype: int64"
      ]
     },
     "execution_count": 485,
     "metadata": {},
     "output_type": "execute_result"
    }
   ],
   "source": [
    "hotels['name'].apply(lambda x:x.split()[-1]).value_counts().nlargest(5)"
   ]
  },
  {
   "cell_type": "markdown",
   "metadata": {
    "id": "oJnvSYz6ewZb"
   },
   "source": [
    "## *Quels sont les noms des personnes qui avaient réservé pour le plus grand nombre d'enfants et de bébés pour leur séjour ?**"
   ]
  },
  {
   "cell_type": "code",
   "execution_count": 486,
   "metadata": {
    "collapsed": true,
    "id": "eE14mEQJewZb"
   },
   "outputs": [
    {
     "data": {
      "text/html": [
       "<div>\n",
       "<style scoped>\n",
       "    .dataframe tbody tr th:only-of-type {\n",
       "        vertical-align: middle;\n",
       "    }\n",
       "\n",
       "    .dataframe tbody tr th {\n",
       "        vertical-align: top;\n",
       "    }\n",
       "\n",
       "    .dataframe thead th {\n",
       "        text-align: right;\n",
       "    }\n",
       "</style>\n",
       "<table border=\"1\" class=\"dataframe\">\n",
       "  <thead>\n",
       "    <tr style=\"text-align: right;\">\n",
       "      <th></th>\n",
       "      <th>name</th>\n",
       "      <th>adults</th>\n",
       "      <th>total_kids</th>\n",
       "      <th>babies</th>\n",
       "      <th>children</th>\n",
       "    </tr>\n",
       "  </thead>\n",
       "  <tbody>\n",
       "    <tr>\n",
       "      <th>328</th>\n",
       "      <td>Jamie Ramirez</td>\n",
       "      <td>2</td>\n",
       "      <td>10.0</td>\n",
       "      <td>0</td>\n",
       "      <td>10.0</td>\n",
       "    </tr>\n",
       "    <tr>\n",
       "      <th>46619</th>\n",
       "      <td>Nicholas Parker</td>\n",
       "      <td>2</td>\n",
       "      <td>10.0</td>\n",
       "      <td>10</td>\n",
       "      <td>0.0</td>\n",
       "    </tr>\n",
       "    <tr>\n",
       "      <th>78656</th>\n",
       "      <td>Marc Robinson</td>\n",
       "      <td>1</td>\n",
       "      <td>9.0</td>\n",
       "      <td>9</td>\n",
       "      <td>0.0</td>\n",
       "    </tr>\n",
       "  </tbody>\n",
       "</table>\n",
       "</div>"
      ],
      "text/plain": [
       "                  name  adults  total_kids  babies  children\n",
       "328      Jamie Ramirez       2        10.0       0      10.0\n",
       "46619  Nicholas Parker       2        10.0      10       0.0\n",
       "78656    Marc Robinson       1         9.0       9       0.0"
      ]
     },
     "execution_count": 486,
     "metadata": {},
     "output_type": "execute_result"
    }
   ],
   "source": [
    "hotels['total_kids'] = hotels['children'] + hotels['babies']\n",
    "hotels[['name','adults','total_kids','babies','children']].nlargest(3, 'total_kids')"
   ]
  },
  {
   "cell_type": "markdown",
   "metadata": {
    "id": "QbcwsLSiewZb"
   },
   "source": [
    "## **Quels sont les 3 indicatifs de région les plus courants dans les numéros de téléphone ?**\n",
    "**(L'indicatif régional est constitué des 3 premiers chiffres)**"
   ]
  },
  {
   "cell_type": "code",
   "execution_count": 487,
   "metadata": {
    "collapsed": true,
    "id": "oOsSvAXmewZc"
   },
   "outputs": [
    {
     "data": {
      "text/plain": [
       "phone-number\n",
       "799    168\n",
       "185    167\n",
       "541    166\n",
       "Name: count, dtype: int64"
      ]
     },
     "execution_count": 487,
     "metadata": {},
     "output_type": "execute_result"
    }
   ],
   "source": [
    "\n",
    "ind_region = hotels['phone-number'].astype(str).apply(lambda x : x.split('-')[0]).value_counts().nlargest(3)\n",
    "ind_region\n",
    "# les 3 indicatifs de région les plus courants sont 799, 185, 541"
   ]
  },
  {
   "cell_type": "markdown",
   "metadata": {
    "id": "0V05OjkLewZc"
   },
   "source": [
    "## **Combien d'arrivées ont eu lieu entre le 1er et le 15 du mois (1er et 15 inclus) ?**"
   ]
  },
  {
   "cell_type": "code",
   "execution_count": 488,
   "metadata": {
    "collapsed": true,
    "id": "3XUGZ-nGewZc"
   },
   "outputs": [
    {
     "data": {
      "text/plain": [
       "58152"
      ]
     },
     "execution_count": 488,
     "metadata": {},
     "output_type": "execute_result"
    }
   ],
   "source": [
    "\n",
    "res= (hotels['arrival_date_day_of_month']>=1) & (hotels['arrival_date_day_of_month']<=15)\n",
    "res.sum()"
   ]
  },
  {
   "cell_type": "code",
   "execution_count": 489,
   "metadata": {
    "colab": {
     "base_uri": "https://localhost:8080/"
    },
    "executionInfo": {
     "elapsed": 211,
     "status": "ok",
     "timestamp": 1625562068761,
     "user": {
      "displayName": "Rod Paris",
      "photoUrl": "",
      "userId": "10535238717210992784"
     },
     "user_tz": -120
    },
    "id": "lJ3oVRbrewZc",
    "outputId": "069e4923-dd21-4f4e-d4db-a84604d067c7"
   },
   "outputs": [
    {
     "data": {
      "text/plain": [
       "'547'"
      ]
     },
     "execution_count": 489,
     "metadata": {},
     "output_type": "execute_result"
    }
   ],
   "source": [
    "len(str(547))\n",
    "str(547)"
   ]
  },
  {
   "cell_type": "markdown",
   "metadata": {
    "id": "qPNTUda5ewZc"
   },
   "source": [
    "\n",
    "## **Créer un tableau de comptage pour chaque jour de la semaine où des personnes sont arrivées.**\n",
    "**(Par exemple, 5000 personnes sont arrivées le lundi, 3000 le mardi, etc...)**"
   ]
  },
  {
   "cell_type": "code",
   "execution_count": 490,
   "metadata": {},
   "outputs": [
    {
     "data": {
      "text/plain": [
       "{'january': 1,\n",
       " 'february': 2,\n",
       " 'march': 3,\n",
       " 'april': 4,\n",
       " 'may': 5,\n",
       " 'june': 6,\n",
       " 'july': 7,\n",
       " 'august': 8,\n",
       " 'september': 9,\n",
       " 'october': 10,\n",
       " 'november': 11,\n",
       " 'december': 12}"
      ]
     },
     "execution_count": 490,
     "metadata": {},
     "output_type": "execute_result"
    }
   ],
   "source": [
    "# Converting the column of months from words to numbers\n",
    "\n",
    "# Dictionary: months in numbers\n",
    "import calendar,datetime\n",
    "\n",
    "calendar.month_name[1:]\n",
    "month_to_value = {}\n",
    "i=1\n",
    "for month in calendar.month_name[1:]:\n",
    "    month_to_value[month.lower()]= i\n",
    "    i+=1\n",
    "\n",
    "month_to_value"
   ]
  },
  {
   "cell_type": "code",
   "execution_count": 491,
   "metadata": {},
   "outputs": [],
   "source": [
    "# code\n",
    "\n",
    "hotels['arrival_date_month_value'] = [month_to_value.get(month.lower()) for month in hotels['arrival_date_month']]"
   ]
  },
  {
   "cell_type": "code",
   "execution_count": 492,
   "metadata": {},
   "outputs": [
    {
     "data": {
      "text/html": [
       "<div>\n",
       "<style scoped>\n",
       "    .dataframe tbody tr th:only-of-type {\n",
       "        vertical-align: middle;\n",
       "    }\n",
       "\n",
       "    .dataframe tbody tr th {\n",
       "        vertical-align: top;\n",
       "    }\n",
       "\n",
       "    .dataframe thead th {\n",
       "        text-align: right;\n",
       "    }\n",
       "</style>\n",
       "<table border=\"1\" class=\"dataframe\">\n",
       "  <thead>\n",
       "    <tr style=\"text-align: right;\">\n",
       "      <th></th>\n",
       "      <th>arrival_date_month</th>\n",
       "      <th>arrival_date_month_value</th>\n",
       "    </tr>\n",
       "  </thead>\n",
       "  <tbody>\n",
       "    <tr>\n",
       "      <th>0</th>\n",
       "      <td>July</td>\n",
       "      <td>7</td>\n",
       "    </tr>\n",
       "    <tr>\n",
       "      <th>1</th>\n",
       "      <td>July</td>\n",
       "      <td>7</td>\n",
       "    </tr>\n",
       "    <tr>\n",
       "      <th>2</th>\n",
       "      <td>July</td>\n",
       "      <td>7</td>\n",
       "    </tr>\n",
       "    <tr>\n",
       "      <th>3</th>\n",
       "      <td>July</td>\n",
       "      <td>7</td>\n",
       "    </tr>\n",
       "    <tr>\n",
       "      <th>4</th>\n",
       "      <td>July</td>\n",
       "      <td>7</td>\n",
       "    </tr>\n",
       "    <tr>\n",
       "      <th>...</th>\n",
       "      <td>...</td>\n",
       "      <td>...</td>\n",
       "    </tr>\n",
       "    <tr>\n",
       "      <th>119385</th>\n",
       "      <td>August</td>\n",
       "      <td>8</td>\n",
       "    </tr>\n",
       "    <tr>\n",
       "      <th>119386</th>\n",
       "      <td>August</td>\n",
       "      <td>8</td>\n",
       "    </tr>\n",
       "    <tr>\n",
       "      <th>119387</th>\n",
       "      <td>August</td>\n",
       "      <td>8</td>\n",
       "    </tr>\n",
       "    <tr>\n",
       "      <th>119388</th>\n",
       "      <td>August</td>\n",
       "      <td>8</td>\n",
       "    </tr>\n",
       "    <tr>\n",
       "      <th>119389</th>\n",
       "      <td>August</td>\n",
       "      <td>8</td>\n",
       "    </tr>\n",
       "  </tbody>\n",
       "</table>\n",
       "<p>119390 rows × 2 columns</p>\n",
       "</div>"
      ],
      "text/plain": [
       "       arrival_date_month  arrival_date_month_value\n",
       "0                    July                         7\n",
       "1                    July                         7\n",
       "2                    July                         7\n",
       "3                    July                         7\n",
       "4                    July                         7\n",
       "...                   ...                       ...\n",
       "119385             August                         8\n",
       "119386             August                         8\n",
       "119387             August                         8\n",
       "119388             August                         8\n",
       "119389             August                         8\n",
       "\n",
       "[119390 rows x 2 columns]"
      ]
     },
     "execution_count": 492,
     "metadata": {},
     "output_type": "execute_result"
    }
   ],
   "source": [
    "hotels[['arrival_date_month','arrival_date_month_value']]"
   ]
  },
  {
   "cell_type": "code",
   "execution_count": 493,
   "metadata": {},
   "outputs": [
    {
     "data": {
      "text/html": [
       "<div>\n",
       "<style scoped>\n",
       "    .dataframe tbody tr th:only-of-type {\n",
       "        vertical-align: middle;\n",
       "    }\n",
       "\n",
       "    .dataframe tbody tr th {\n",
       "        vertical-align: top;\n",
       "    }\n",
       "\n",
       "    .dataframe thead th {\n",
       "        text-align: right;\n",
       "    }\n",
       "</style>\n",
       "<table border=\"1\" class=\"dataframe\">\n",
       "  <thead>\n",
       "    <tr style=\"text-align: right;\">\n",
       "      <th></th>\n",
       "      <th>arrival_date_day_of_month</th>\n",
       "      <th>arrival_date_month_value</th>\n",
       "      <th>arrival_date_year</th>\n",
       "    </tr>\n",
       "  </thead>\n",
       "  <tbody>\n",
       "    <tr>\n",
       "      <th>0</th>\n",
       "      <td>1</td>\n",
       "      <td>7</td>\n",
       "      <td>2015</td>\n",
       "    </tr>\n",
       "    <tr>\n",
       "      <th>1</th>\n",
       "      <td>1</td>\n",
       "      <td>7</td>\n",
       "      <td>2015</td>\n",
       "    </tr>\n",
       "    <tr>\n",
       "      <th>2</th>\n",
       "      <td>1</td>\n",
       "      <td>7</td>\n",
       "      <td>2015</td>\n",
       "    </tr>\n",
       "    <tr>\n",
       "      <th>3</th>\n",
       "      <td>1</td>\n",
       "      <td>7</td>\n",
       "      <td>2015</td>\n",
       "    </tr>\n",
       "    <tr>\n",
       "      <th>4</th>\n",
       "      <td>1</td>\n",
       "      <td>7</td>\n",
       "      <td>2015</td>\n",
       "    </tr>\n",
       "    <tr>\n",
       "      <th>...</th>\n",
       "      <td>...</td>\n",
       "      <td>...</td>\n",
       "      <td>...</td>\n",
       "    </tr>\n",
       "    <tr>\n",
       "      <th>119385</th>\n",
       "      <td>30</td>\n",
       "      <td>8</td>\n",
       "      <td>2017</td>\n",
       "    </tr>\n",
       "    <tr>\n",
       "      <th>119386</th>\n",
       "      <td>31</td>\n",
       "      <td>8</td>\n",
       "      <td>2017</td>\n",
       "    </tr>\n",
       "    <tr>\n",
       "      <th>119387</th>\n",
       "      <td>31</td>\n",
       "      <td>8</td>\n",
       "      <td>2017</td>\n",
       "    </tr>\n",
       "    <tr>\n",
       "      <th>119388</th>\n",
       "      <td>31</td>\n",
       "      <td>8</td>\n",
       "      <td>2017</td>\n",
       "    </tr>\n",
       "    <tr>\n",
       "      <th>119389</th>\n",
       "      <td>29</td>\n",
       "      <td>8</td>\n",
       "      <td>2017</td>\n",
       "    </tr>\n",
       "  </tbody>\n",
       "</table>\n",
       "<p>119390 rows × 3 columns</p>\n",
       "</div>"
      ],
      "text/plain": [
       "        arrival_date_day_of_month  arrival_date_month_value  arrival_date_year\n",
       "0                               1                         7               2015\n",
       "1                               1                         7               2015\n",
       "2                               1                         7               2015\n",
       "3                               1                         7               2015\n",
       "4                               1                         7               2015\n",
       "...                           ...                       ...                ...\n",
       "119385                         30                         8               2017\n",
       "119386                         31                         8               2017\n",
       "119387                         31                         8               2017\n",
       "119388                         31                         8               2017\n",
       "119389                         29                         8               2017\n",
       "\n",
       "[119390 rows x 3 columns]"
      ]
     },
     "execution_count": 493,
     "metadata": {},
     "output_type": "execute_result"
    }
   ],
   "source": [
    "hotels.loc[:,['arrival_date_day_of_month','arrival_date_month_value','arrival_date_year']]\n"
   ]
  },
  {
   "cell_type": "code",
   "execution_count": 494,
   "metadata": {},
   "outputs": [
    {
     "data": {
      "text/plain": [
       "{'Monday': 0,\n",
       " 'Tuesday': 0,\n",
       " 'Wednesday': 0,\n",
       " 'Thursday': 0,\n",
       " 'Friday': 0,\n",
       " 'Saturday': 0,\n",
       " 'Sunday': 0}"
      ]
     },
     "execution_count": 494,
     "metadata": {},
     "output_type": "execute_result"
    }
   ],
   "source": [
    "# start coding\n",
    "# initial values for each day\n",
    "days = {calendar.day_name[x] : 0 for x in range(0,7)}\n",
    "days"
   ]
  },
  {
   "cell_type": "code",
   "execution_count": 495,
   "metadata": {},
   "outputs": [
    {
     "data": {
      "text/plain": [
       "119390"
      ]
     },
     "execution_count": 495,
     "metadata": {},
     "output_type": "execute_result"
    }
   ],
   "source": [
    "len(hotels)"
   ]
  },
  {
   "cell_type": "code",
   "execution_count": 496,
   "metadata": {},
   "outputs": [],
   "source": [
    "# code\n",
    "\n",
    "for item in range(len(hotels)):\n",
    "    d = hotels.loc[item,['arrival_date_year','arrival_date_month_value','arrival_date_day_of_month']]\n",
    "    date=datetime.date(d['arrival_date_year'],d['arrival_date_month_value'],d['arrival_date_day_of_month'])\n",
    "    datename = calendar.day_name[date.weekday()]\n",
    "    days[datename] +=1\n",
    "    "
   ]
  },
  {
   "cell_type": "code",
   "execution_count": 497,
   "metadata": {},
   "outputs": [
    {
     "data": {
      "text/plain": [
       "{'Monday': 18171,\n",
       " 'Tuesday': 13999,\n",
       " 'Wednesday': 16139,\n",
       " 'Thursday': 19254,\n",
       " 'Friday': 19631,\n",
       " 'Saturday': 18055,\n",
       " 'Sunday': 14141}"
      ]
     },
     "execution_count": 497,
     "metadata": {},
     "output_type": "execute_result"
    }
   ],
   "source": [
    "days"
   ]
  },
  {
   "cell_type": "code",
   "execution_count": 498,
   "metadata": {
    "collapsed": true,
    "id": "Omv76YfJewZc"
   },
   "outputs": [
    {
     "data": {
      "text/plain": [
       "'Wednesday'"
      ]
     },
     "execution_count": 498,
     "metadata": {},
     "output_type": "execute_result"
    }
   ],
   "source": [
    "\n",
    "\n",
    "\n",
    "\n",
    "h = hotels.loc[0,['arrival_date_year','arrival_date_month_value','arrival_date_day_of_month']]\n",
    "\n",
    "g= datetime.date(h['arrival_date_year'],h['arrival_date_month_value'],h['arrival_date_day_of_month'])\n",
    "calendar.day_name[g.weekday()]\n",
    "\n"
   ]
  },
  {
   "cell_type": "markdown",
   "metadata": {
    "id": "7GND1LciewZc"
   },
   "source": [
    "# Construction et comparaison de modèles des modèles"
   ]
  },
  {
   "cell_type": "markdown",
   "metadata": {
    "id": "nx5D125QewZc"
   },
   "source": [
    "* Regression\n",
    "* knn\n",
    "* Arbre de décision\n",
    "* Random forest\n",
    "* ANN\n",
    "* Reg log\n",
    "* SVM\n",
    "* etc..."
   ]
  },
  {
   "cell_type": "code",
   "execution_count": null,
   "metadata": {
    "colab": {
     "base_uri": "https://localhost:8080/"
    },
    "executionInfo": {
     "elapsed": 208,
     "status": "ok",
     "timestamp": 1625562114388,
     "user": {
      "displayName": "Rod Paris",
      "photoUrl": "",
      "userId": "10535238717210992784"
     },
     "user_tz": -120
    },
    "id": "TYK1kyemewZd",
    "outputId": "25adf6e7-e21d-4bfd-c4f4-bed6cbc76ff7"
   },
   "outputs": [],
   "source": []
  }
 ],
 "metadata": {
  "anaconda-cloud": {},
  "colab": {
   "provenance": [
    {
     "file_id": "1lTOt-389mSwHMpoz3jK9fEsDmrZ4xO5A",
     "timestamp": 1625562173695
    },
    {
     "file_id": "1rVBebpCwN4V_280RWo-DXo9Pd-mMe5Ij",
     "timestamp": 1625502417186
    }
   ]
  },
  "kernelspec": {
   "display_name": "Python 3",
   "language": "python",
   "name": "python3"
  },
  "language_info": {
   "codemirror_mode": {
    "name": "ipython",
    "version": 3
   },
   "file_extension": ".py",
   "mimetype": "text/x-python",
   "name": "python",
   "nbconvert_exporter": "python",
   "pygments_lexer": "ipython3",
   "version": "3.10.12"
  },
  "toc": {
   "base_numbering": 1,
   "nav_menu": {},
   "number_sections": true,
   "sideBar": true,
   "skip_h1_title": false,
   "title_cell": "Table of Contents",
   "title_sidebar": "Contents",
   "toc_cell": false,
   "toc_position": {},
   "toc_section_display": true,
   "toc_window_display": false
  }
 },
 "nbformat": 4,
 "nbformat_minor": 1
}
